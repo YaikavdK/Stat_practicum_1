{
 "cells": [
  {
   "cell_type": "code",
   "execution_count": 2,
   "id": "ec47f59f-c052-4ab1-8646-23c550943ff0",
   "metadata": {},
   "outputs": [],
   "source": [
    "# aankomst rate lambda = 2/3 per minuut\n",
    "#"
   ]
  },
  {
   "cell_type": "code",
   "execution_count": 2,
   "id": "c6403b78-9819-4d12-a719-2ea94e80f506",
   "metadata": {
    "tags": []
   },
   "outputs": [],
   "source": [
    "# importeren packages\n",
    "import salabim as sim\n",
    "import numpy as np\n",
    "import pandas as pd\n",
    "from matplotlib import pyplot as plt\n",
    "import seaborn as sns\n",
    "from collections import Counter\n",
    "import statsmodels.stats.weightstats\n",
    "import random"
   ]
  },
  {
   "cell_type": "code",
   "execution_count": 52,
   "id": "b46c6647-788d-40e4-bd43-6e8936a5e569",
   "metadata": {
    "tags": []
   },
   "outputs": [],
   "source": [
    "kopers = []\n",
    "eters = []\n",
    "kopers_afgehaakt = []\n",
    "eters_afgehaakt = []\n",
    "omzet_kopers = []\n",
    "omzet_eters = []\n",
    "omzet = []\n",
    "model = []\n",
    "\n",
    "# genereer klanten\n",
    "class KlantenGenerator(sim.Component):\n",
    "    def process(self):\n",
    "        while True:\n",
    "            if random.uniform(0,1) <= 0.4:\n",
    "                Eter()\n",
    "                stats['eters']+=1\n",
    "            else:\n",
    "                Koper()\n",
    "                stats['kopers']+=1\n",
    "            self.hold(sim.Exponential(2/3).sample())\n",
    "\n",
    "# sluit nieuwe klant aan in de wachtrij\n",
    "class Eter(sim.Component):\n",
    "    def process(self):\n",
    "        if Eters_b.requesters().length() < 4:\n",
    "            self.request(Eters_b)\n",
    "            self.hold(sim.Normal(9, 1).sample())\n",
    "            stats['opbrengst_eters']+= sim.Bounded(sim.Normal(20, 2), 0).sample()\n",
    "        else:\n",
    "            stats['eters_afgehaakt']+=1\n",
    "            self.cancel()\n",
    "\n",
    "# stuur nieuwe webshoporder naar de keuken\n",
    "class Koper(sim.Component):\n",
    "    def process(self):\n",
    "        if Kopers_b.requesters().length() < 3:\n",
    "            self.request(Kopers_b)\n",
    "            self.hold(sim.Exponential(2).sample())\n",
    "            stats['opbrengst_kopers']+= sim.Uniform(3, 7).sample()\n",
    "        else:\n",
    "            stats['kopers_afgehaakt']+=1\n",
    "            self.cancel()\n",
    "\n",
    "for i in range(200):\n",
    "    # initialiseer simulatie\n",
    "    env = sim.Environment(trace=False, random_seed =\"*\")\n",
    "    stats = {\"kopers\": 0, \"eters\": 0, \"kopers_afgehaakt\": 0, \"eters_afgehaakt\": 0, 'opbrengst_eters': 0, 'opbrengst_kopers': 0}\n",
    "\n",
    "    # simuleer lunchroom\n",
    "    KlantenGenerator()\n",
    "    Eters_b = sim.Resource('Eters bediening', capacity=2)\n",
    "    Kopers_b = sim.Resource('Kopers bediening', capacity=1)\n",
    "\n",
    "\n",
    "\n",
    "    # run simulatie voor 250000 minuten\n",
    "    env.run(till=6*60)\n",
    "    kopers.append(stats['kopers'])\n",
    "    eters.append(stats['eters'])\n",
    "    kopers_afgehaakt.append(stats['kopers_afgehaakt'])\n",
    "    eters_afgehaakt.append(stats['eters_afgehaakt'])\n",
    "    omzet_kopers.append(stats['opbrengst_kopers'])\n",
    "    omzet_eters.append(stats['opbrengst_eters'])\n",
    "    omzet.append(stats['opbrengst_kopers'] + stats['opbrengst_eters'])\n",
    "    model.append(\"Huidige\")\n",
    "\n",
    "df1 = pd.DataFrame([kopers, eters, kopers_afgehaakt, eters_afgehaakt, omzet_kopers, omzet_eters, omzet, model]).T\n",
    "df1 = df1.rename({0: 'Kopers', 1: 'Eters', 2: 'Kopers_afgehaakt', 3: 'Eters_afgehaakt', 4: 'Omzet_kopers', 5: 'Omzet_eters', 6: 'Omzet', 7: 'model'}, axis='columns')"
   ]
  },
  {
   "cell_type": "code",
   "execution_count": 47,
   "id": "c04c06f5-1734-4029-ab67-7bb2a567585b",
   "metadata": {
    "tags": []
   },
   "outputs": [
    {
     "data": {
      "text/plain": [
       "24.269346699057937"
      ]
     },
     "execution_count": 47,
     "metadata": {},
     "output_type": "execute_result"
    }
   ],
   "source": [
    "Eters_b.requesters().length_of_stay.mean() + Eters_b.claimers().length_of_stay.mean()"
   ]
  },
  {
   "cell_type": "code",
   "execution_count": 46,
   "id": "b91f9219-1ad9-49b2-aa92-96a240e7a83b",
   "metadata": {
    "tags": []
   },
   "outputs": [
    {
     "data": {
      "text/plain": [
       "5.693823160333816"
      ]
     },
     "execution_count": 46,
     "metadata": {},
     "output_type": "execute_result"
    }
   ],
   "source": [
    "Kopers_b.requesters().length_of_stay.mean() + Kopers_b.claimers().length_of_stay.mean()"
   ]
  },
  {
   "cell_type": "code",
   "execution_count": 45,
   "id": "f1d4f207-e07c-4afa-bc14-77010682284d",
   "metadata": {
    "tags": []
   },
   "outputs": [
    {
     "data": {
      "text/plain": [
       "{'kopers': 336,\n",
       " 'eters': 205,\n",
       " 'kopers_afgehaakt': 155,\n",
       " 'eters_afgehaakt': 122,\n",
       " 'opbrengst_eters': 1543.5536076537735,\n",
       " 'opbrengst_kopers': 902.796688205553}"
      ]
     },
     "execution_count": 45,
     "metadata": {},
     "output_type": "execute_result"
    }
   ],
   "source": [
    "stats"
   ]
  },
  {
   "cell_type": "code",
   "execution_count": 55,
   "id": "a6fcbbef-e0be-4004-807c-44f017023c40",
   "metadata": {
    "tags": []
   },
   "outputs": [
    {
     "data": {
      "text/html": [
       "<div>\n",
       "<style scoped>\n",
       "    .dataframe tbody tr th:only-of-type {\n",
       "        vertical-align: middle;\n",
       "    }\n",
       "\n",
       "    .dataframe tbody tr th {\n",
       "        vertical-align: top;\n",
       "    }\n",
       "\n",
       "    .dataframe thead th {\n",
       "        text-align: right;\n",
       "    }\n",
       "</style>\n",
       "<table border=\"1\" class=\"dataframe\">\n",
       "  <thead>\n",
       "    <tr style=\"text-align: right;\">\n",
       "      <th></th>\n",
       "      <th>Kopers</th>\n",
       "      <th>Eters</th>\n",
       "      <th>Kopers_afgehaakt</th>\n",
       "      <th>Eters_afgehaakt</th>\n",
       "      <th>Omzet_kopers</th>\n",
       "      <th>Omzet_eters</th>\n",
       "      <th>Omzet</th>\n",
       "    </tr>\n",
       "  </thead>\n",
       "  <tbody>\n",
       "    <tr>\n",
       "      <th>count</th>\n",
       "      <td>200.000000</td>\n",
       "      <td>200.000000</td>\n",
       "      <td>200.000000</td>\n",
       "      <td>200.000000</td>\n",
       "      <td>200.000000</td>\n",
       "      <td>200.000000</td>\n",
       "      <td>200.000000</td>\n",
       "    </tr>\n",
       "    <tr>\n",
       "      <th>mean</th>\n",
       "      <td>323.335000</td>\n",
       "      <td>216.640000</td>\n",
       "      <td>150.450000</td>\n",
       "      <td>132.550000</td>\n",
       "      <td>848.951014</td>\n",
       "      <td>1573.156488</td>\n",
       "      <td>2422.107502</td>\n",
       "    </tr>\n",
       "    <tr>\n",
       "      <th>std</th>\n",
       "      <td>16.599412</td>\n",
       "      <td>14.296586</td>\n",
       "      <td>19.777341</td>\n",
       "      <td>14.283121</td>\n",
       "      <td>59.563248</td>\n",
       "      <td>28.576474</td>\n",
       "      <td>62.931999</td>\n",
       "    </tr>\n",
       "    <tr>\n",
       "      <th>min</th>\n",
       "      <td>282.000000</td>\n",
       "      <td>177.000000</td>\n",
       "      <td>98.000000</td>\n",
       "      <td>93.000000</td>\n",
       "      <td>689.536318</td>\n",
       "      <td>1493.562887</td>\n",
       "      <td>2258.840474</td>\n",
       "    </tr>\n",
       "    <tr>\n",
       "      <th>25%</th>\n",
       "      <td>311.000000</td>\n",
       "      <td>207.000000</td>\n",
       "      <td>137.000000</td>\n",
       "      <td>123.000000</td>\n",
       "      <td>810.752644</td>\n",
       "      <td>1552.784817</td>\n",
       "      <td>2371.158325</td>\n",
       "    </tr>\n",
       "    <tr>\n",
       "      <th>50%</th>\n",
       "      <td>324.000000</td>\n",
       "      <td>217.000000</td>\n",
       "      <td>150.000000</td>\n",
       "      <td>134.000000</td>\n",
       "      <td>848.192253</td>\n",
       "      <td>1572.646022</td>\n",
       "      <td>2426.755188</td>\n",
       "    </tr>\n",
       "    <tr>\n",
       "      <th>75%</th>\n",
       "      <td>336.000000</td>\n",
       "      <td>226.000000</td>\n",
       "      <td>166.250000</td>\n",
       "      <td>141.000000</td>\n",
       "      <td>884.901438</td>\n",
       "      <td>1593.197054</td>\n",
       "      <td>2464.093479</td>\n",
       "    </tr>\n",
       "    <tr>\n",
       "      <th>max</th>\n",
       "      <td>363.000000</td>\n",
       "      <td>252.000000</td>\n",
       "      <td>202.000000</td>\n",
       "      <td>167.000000</td>\n",
       "      <td>988.308055</td>\n",
       "      <td>1648.763954</td>\n",
       "      <td>2605.161898</td>\n",
       "    </tr>\n",
       "  </tbody>\n",
       "</table>\n",
       "</div>"
      ],
      "text/plain": [
       "           Kopers       Eters  Kopers_afgehaakt  Eters_afgehaakt  \\\n",
       "count  200.000000  200.000000        200.000000       200.000000   \n",
       "mean   323.335000  216.640000        150.450000       132.550000   \n",
       "std     16.599412   14.296586         19.777341        14.283121   \n",
       "min    282.000000  177.000000         98.000000        93.000000   \n",
       "25%    311.000000  207.000000        137.000000       123.000000   \n",
       "50%    324.000000  217.000000        150.000000       134.000000   \n",
       "75%    336.000000  226.000000        166.250000       141.000000   \n",
       "max    363.000000  252.000000        202.000000       167.000000   \n",
       "\n",
       "       Omzet_kopers  Omzet_eters        Omzet  \n",
       "count    200.000000   200.000000   200.000000  \n",
       "mean     848.951014  1573.156488  2422.107502  \n",
       "std       59.563248    28.576474    62.931999  \n",
       "min      689.536318  1493.562887  2258.840474  \n",
       "25%      810.752644  1552.784817  2371.158325  \n",
       "50%      848.192253  1572.646022  2426.755188  \n",
       "75%      884.901438  1593.197054  2464.093479  \n",
       "max      988.308055  1648.763954  2605.161898  "
      ]
     },
     "execution_count": 55,
     "metadata": {},
     "output_type": "execute_result"
    }
   ],
   "source": [
    "df1 = df1.astype({c:'float64' for c in df1.columns if c != 'model'})\n",
    "df1.describe()"
   ]
  },
  {
   "cell_type": "markdown",
   "id": "66a08dd6-f7f0-415f-ac9b-4157a347f2e5",
   "metadata": {},
   "source": [
    "# Variant A"
   ]
  },
  {
   "cell_type": "code",
   "execution_count": 19,
   "id": "a9b7fb34-52c9-4d03-b392-af7d46cf8650",
   "metadata": {
    "collapsed": true,
    "jupyter": {
     "outputs_hidden": true
    },
    "tags": []
   },
   "outputs": [
    {
     "name": "stdout",
     "output_type": "stream",
     "text": [
      "Statistics of Eters bediening at       480.000\n",
      "                                                                     all    excl.zero         zero\n",
      "-------------------------------------------- -------------- ------------ ------------ ------------\n",
      "Length of requesters of Eters bediening      duration            480          469.209       10.791\n",
      "                                             mean                  3.450        3.529\n",
      "                                             std.deviation         0.862        0.693\n",
      "\n",
      "                                             minimum               0            1    \n",
      "                                             median                4            4    \n",
      "                                             90% percentile        4            4    \n",
      "                                             95% percentile        4            4    \n",
      "                                             maximum               4            4    \n",
      "\n",
      "Length of stay in requesters of Eters bedienientries             107          107            0    \n",
      "                                             mean                 15.268       15.268\n",
      "                                             std.deviation         4.152        4.152\n",
      "\n",
      "                                             minimum               0            0    \n",
      "                                             median               16.286       16.286\n",
      "                                             90% percentile       18.883       18.883\n",
      "                                             95% percentile       19.261       19.261\n",
      "                                             maximum              20.534       20.534\n",
      "\n",
      "Length of claimers of Eters bediening        duration            480          480            0    \n",
      "                                             mean                  1.995        1.995\n",
      "                                             std.deviation         0.069        0.069\n",
      "\n",
      "                                             minimum               1            1    \n",
      "                                             median                2            2    \n",
      "                                             90% percentile        2            2    \n",
      "                                             95% percentile        2            2    \n",
      "                                             maximum               2            2    \n",
      "\n",
      "Length of stay in claimers of Eters bedieningentries             105          105            0    \n",
      "                                             mean                  9.087        9.087\n",
      "                                             std.deviation         1.036        1.036\n",
      "\n",
      "                                             minimum               5.688        5.688\n",
      "                                             median                9.134        9.134\n",
      "                                             90% percentile       10.209       10.209\n",
      "                                             95% percentile       10.719       10.719\n",
      "                                             maximum              11.903       11.903\n",
      "\n",
      "Capacity of Eters bediening                  duration            480          480            0    \n",
      "                                             mean                  2            2    \n",
      "                                             std.deviation         0            0    \n",
      "\n",
      "                                             minimum               2            2    \n",
      "                                             median                2            2    \n",
      "                                             90% percentile        2            2    \n",
      "                                             95% percentile        2            2    \n",
      "                                             maximum               2            2    \n",
      "\n",
      "Available quantity of Eters bediening        duration            480            2.324      477.676\n",
      "                                             mean                  0.005        1    \n",
      "                                             std.deviation         0.069        0    \n",
      "\n",
      "                                             minimum               0            1    \n",
      "                                             median                0            1    \n",
      "                                             90% percentile        0            1    \n",
      "                                             95% percentile        0            1    \n",
      "                                             maximum               1            1    \n",
      "\n",
      "Claimed quantity of Eters bediening          duration            480          480            0    \n",
      "                                             mean                  1.995        1.995\n",
      "                                             std.deviation         0.069        0.069\n",
      "\n",
      "                                             minimum               1            1    \n",
      "                                             median                2            2    \n",
      "                                             90% percentile        2            2    \n",
      "                                             95% percentile        2            2    \n",
      "                                             maximum               2            2    \n",
      "\n",
      "Occupancy of Eters bediening                 duration            480          480            0    \n",
      "                                             mean                  0.998        0.998\n",
      "                                             std.deviation         0.035        0.035\n",
      "\n",
      "                                             minimum               0.500        0.500\n",
      "                                             median                1            1    \n",
      "                                             90% percentile        1            1    \n",
      "                                             95% percentile        1            1    \n",
      "                                             maximum               1            1    \n",
      "\n",
      "Statistics of Kopers bediening at       480.000\n",
      "                                                                     all    excl.zero         zero\n",
      "-------------------------------------------- -------------- ------------ ------------ ------------\n",
      "Length of requesters of Kopers bediening     duration            480          410.855       69.145\n",
      "                                             mean                  1.988        2.323\n",
      "                                             std.deviation         1.075        0.757\n",
      "\n",
      "                                             minimum               0            1    \n",
      "                                             median                2            2    \n",
      "                                             90% percentile        3            3    \n",
      "                                             95% percentile        3            3    \n",
      "                                             maximum               3            3    \n",
      "\n",
      "Length of stay in requesters of Kopers bedienentries             243          243            0    \n",
      "                                             mean                  3.884        3.884\n",
      "                                             std.deviation         3.091        3.091\n",
      "\n",
      "                                             minimum               0            0    \n",
      "                                             median                3.434        3.434\n",
      "                                             90% percentile        8.122        8.122\n",
      "                                             95% percentile       10.021       10.021\n",
      "                                             maximum              12.801       12.801\n",
      "\n",
      "Length of claimers of Kopers bediening       duration            480          453.350       26.650\n",
      "                                             mean                  0.944        1    \n",
      "                                             std.deviation         0.229        0    \n",
      "\n",
      "                                             minimum               0            1    \n",
      "                                             median                1            1    \n",
      "                                             90% percentile        1            1    \n",
      "                                             95% percentile        1            1    \n",
      "                                             maximum               1            1    \n",
      "\n",
      "Length of stay in claimers of Kopers bedieninentries             242          242            0    \n",
      "                                             mean                  1.866        1.866\n",
      "                                             std.deviation         1.784        1.784\n",
      "\n",
      "                                             minimum               0.005        0.005\n",
      "                                             median                1.380        1.380\n",
      "                                             90% percentile        4.165        4.165\n",
      "                                             95% percentile        5.493        5.493\n",
      "                                             maximum               9.008        9.008\n",
      "\n",
      "Capacity of Kopers bediening                 duration            480          480            0    \n",
      "                                             mean                  1            1    \n",
      "                                             std.deviation         0            0    \n",
      "\n",
      "                                             minimum               1            1    \n",
      "                                             median                1            1    \n",
      "                                             90% percentile        1            1    \n",
      "                                             95% percentile        1            1    \n",
      "                                             maximum               1            1    \n",
      "\n",
      "Available quantity of Kopers bediening       duration            480           26.650      453.350\n",
      "                                             mean                  0.056        1    \n",
      "                                             std.deviation         0.229        0    \n",
      "\n",
      "                                             minimum               0            1    \n",
      "                                             median                0            1    \n",
      "                                             90% percentile        0            1    \n",
      "                                             95% percentile        1            1    \n",
      "                                             maximum               1            1    \n",
      "\n",
      "Claimed quantity of Kopers bediening         duration            480          453.350       26.650\n",
      "                                             mean                  0.944        1    \n",
      "                                             std.deviation         0.229        0    \n",
      "\n",
      "                                             minimum               0            1    \n",
      "                                             median                1            1    \n",
      "                                             90% percentile        1            1    \n",
      "                                             95% percentile        1            1    \n",
      "                                             maximum               1            1    \n",
      "\n",
      "Occupancy of Kopers bediening                duration            480          453.350       26.650\n",
      "                                             mean                  0.944        1    \n",
      "                                             std.deviation         0.229        0    \n",
      "\n",
      "                                             minimum               0            1    \n",
      "                                             median                1            1    \n",
      "                                             90% percentile        1            1    \n",
      "                                             95% percentile        1            1    \n",
      "                                             maximum               1            1    \n",
      "\n"
     ]
    }
   ],
   "source": [
    "kopers = []\n",
    "eters = []\n",
    "kopers_afgehaakt = []\n",
    "eters_afgehaakt = []\n",
    "omzet_kopers = []\n",
    "omzet_eters = []\n",
    "omzet = []\n",
    "model = []\n",
    "\n",
    "# genereer klanten\n",
    "class KlantenGenerator(sim.Component):\n",
    "    def process(self):\n",
    "        while True:\n",
    "            if random.uniform(0,1) <= 0.4:\n",
    "                Eter()\n",
    "                stats['eters']+=1\n",
    "            else:\n",
    "                Koper()\n",
    "                stats['kopers']+=1\n",
    "            self.hold(sim.Exponential(2/3).sample())\n",
    "\n",
    "# sluit nieuwe klant aan in de wachtrij\n",
    "class Eter(sim.Component):\n",
    "    def process(self):\n",
    "        if Eters_b.requesters().length() < 4:\n",
    "            self.request(Eters_b)\n",
    "            self.hold(sim.Normal(9, 1).sample())\n",
    "            stats['opbrengst_eters']+= sim.Bounded(sim.Normal(20, 2), 0).sample()\n",
    "        else:\n",
    "            stats['eters_afgehaakt']+=1\n",
    "            self.cancel()\n",
    "\n",
    "# stuur nieuwe webshoporder naar de keuken\n",
    "class Koper(sim.Component):\n",
    "    def process(self):\n",
    "        if Kopers_b.requesters().length() < 3:\n",
    "            self.request(Kopers_b)\n",
    "            self.hold(sim.Exponential(2).sample())\n",
    "            stats['opbrengst_kopers']+= sim.Uniform(3, 7).sample()\n",
    "        else:\n",
    "            stats['kopers_afgehaakt']+=1\n",
    "            self.cancel()\n",
    "            \n",
    "# initialiseer simulatie\n",
    "env = sim.Environment(trace=False, random_seed =\"*\")\n",
    "stats = {\"kopers\": 0, \"eters\": 0, \"kopers_afgehaakt\": 0, \"eters_afgehaakt\": 0, 'opbrengst_eters': 0, 'opbrengst_kopers': 0}\n",
    "\n",
    "# simuleer lunchroom\n",
    "KlantenGenerator()\n",
    "Eters_b = sim.Resource('Eters bediening', capacity=2)\n",
    "Kopers_b = sim.Resource('Kopers bediening', capacity=1)\n",
    "\n",
    "\n",
    "\n",
    "# run simulatie voor 250000 minuten\n",
    "env.run(till=8*60)\n",
    "\n",
    "\n",
    "# geef statistieken per wachtrij weer\n",
    "Eters_b.print_statistics()\n",
    "Kopers_b.print_statistics()"
   ]
  },
  {
   "cell_type": "code",
   "execution_count": 20,
   "id": "6ebf9fbf-b19a-4a2c-b53d-ccd3e2a09adb",
   "metadata": {
    "tags": []
   },
   "outputs": [
    {
     "data": {
      "text/plain": [
       "24.355098435580615"
      ]
     },
     "execution_count": 20,
     "metadata": {},
     "output_type": "execute_result"
    }
   ],
   "source": [
    "Eters_b.requesters().length_of_stay.mean() + Eters_b.claimers().length_of_stay.mean()"
   ]
  },
  {
   "cell_type": "code",
   "execution_count": 21,
   "id": "36805a53-df8b-4b3d-9abf-5703009d10df",
   "metadata": {
    "tags": []
   },
   "outputs": [
    {
     "data": {
      "text/plain": [
       "5.749235833597306"
      ]
     },
     "execution_count": 21,
     "metadata": {},
     "output_type": "execute_result"
    }
   ],
   "source": [
    "Kopers_b.requesters().length_of_stay.mean() + Kopers_b.claimers().length_of_stay.mean()"
   ]
  },
  {
   "cell_type": "code",
   "execution_count": 22,
   "id": "7a91dc66-3a3b-4642-bf38-1bfc7acb9e99",
   "metadata": {
    "tags": []
   },
   "outputs": [
    {
     "data": {
      "text/plain": [
       "{'kopers': 433,\n",
       " 'eters': 277,\n",
       " 'kopers_afgehaakt': 187,\n",
       " 'eters_afgehaakt': 167,\n",
       " 'opbrengst_eters': 2102.0599546548106,\n",
       " 'opbrengst_kopers': 1227.2372671537528}"
      ]
     },
     "execution_count": 22,
     "metadata": {},
     "output_type": "execute_result"
    }
   ],
   "source": [
    "stats"
   ]
  },
  {
   "cell_type": "markdown",
   "id": "9c85448a-b8d0-4321-82f8-38b71ce24cc1",
   "metadata": {},
   "source": [
    "# Variant B"
   ]
  },
  {
   "cell_type": "code",
   "execution_count": 28,
   "id": "cf456bd6-564e-4299-9614-4da02a496aa0",
   "metadata": {
    "collapsed": true,
    "jupyter": {
     "outputs_hidden": true
    },
    "tags": []
   },
   "outputs": [
    {
     "name": "stdout",
     "output_type": "stream",
     "text": [
      "Statistics of Eters bediening at       360.000\n",
      "                                                                     all    excl.zero         zero\n",
      "-------------------------------------------- -------------- ------------ ------------ ------------\n",
      "Length of requesters of Eters bediening      duration            360          246.481      113.519\n",
      "                                             mean                  1.026        1.499\n",
      "                                             std.deviation         0.810        0.500\n",
      "\n",
      "                                             minimum               0            1    \n",
      "                                             median                1            1    \n",
      "                                             90% percentile        2            2    \n",
      "                                             95% percentile        2            2    \n",
      "                                             maximum               2            2    \n",
      "\n",
      "Length of stay in requesters of Eters bedienientries             156          156            0    \n",
      "                                             mean                  2.334        2.334\n",
      "                                             std.deviation         1.768        1.768\n",
      "\n",
      "                                             minimum               0            0    \n",
      "                                             median                2.300        2.300\n",
      "                                             90% percentile        4.712        4.712\n",
      "                                             95% percentile        5.425        5.425\n",
      "                                             maximum               6.757        6.757\n",
      "\n",
      "Length of claimers of Eters bediening        duration            360          357.374        2.626\n",
      "                                             mean                  3.851        3.879\n",
      "                                             std.deviation         0.507        0.387\n",
      "\n",
      "                                             minimum               0            1    \n",
      "                                             median                4            4    \n",
      "                                             90% percentile        4            4    \n",
      "                                             95% percentile        4            4    \n",
      "                                             maximum               4            4    \n",
      "\n",
      "Length of stay in claimers of Eters bedieningentries             152          152            0    \n",
      "                                             mean                  8.984        8.984\n",
      "                                             std.deviation         1.019        1.019\n",
      "\n",
      "                                             minimum               5.980        5.980\n",
      "                                             median                8.959        8.959\n",
      "                                             90% percentile       10.204       10.204\n",
      "                                             95% percentile       10.561       10.561\n",
      "                                             maximum              13.231       13.231\n",
      "\n",
      "Capacity of Eters bediening                  duration            360          360            0    \n",
      "                                             mean                  4            4    \n",
      "                                             std.deviation         0            0    \n",
      "\n",
      "                                             minimum               4            4    \n",
      "                                             median                4            4    \n",
      "                                             90% percentile        4            4    \n",
      "                                             95% percentile        4            4    \n",
      "                                             maximum               4            4    \n",
      "\n",
      "Available quantity of Eters bediening        duration            360           38.542      321.458\n",
      "                                             mean                  0.149        1.390\n",
      "                                             std.deviation         0.507        0.824\n",
      "\n",
      "                                             minimum               0            1    \n",
      "                                             median                0            1    \n",
      "                                             90% percentile        1            2    \n",
      "                                             95% percentile        1            4    \n",
      "                                             maximum               4            4    \n",
      "\n",
      "Claimed quantity of Eters bediening          duration            360          357.374        2.626\n",
      "                                             mean                  3.851        3.879\n",
      "                                             std.deviation         0.507        0.387\n",
      "\n",
      "                                             minimum               0            1    \n",
      "                                             median                4            4    \n",
      "                                             90% percentile        4            4    \n",
      "                                             95% percentile        4            4    \n",
      "                                             maximum               4            4    \n",
      "\n",
      "Occupancy of Eters bediening                 duration            360          357.374        2.626\n",
      "                                             mean                  0.963        0.970\n",
      "                                             std.deviation         0.127        0.097\n",
      "\n",
      "                                             minimum               0            0.250\n",
      "                                             median                1            1    \n",
      "                                             90% percentile        1            1    \n",
      "                                             95% percentile        1            1    \n",
      "                                             maximum               1            1    \n",
      "\n",
      "Statistics of Kopers bediening at       360.000\n",
      "                                                                     all    excl.zero         zero\n",
      "-------------------------------------------- -------------- ------------ ------------ ------------\n",
      "Length of requesters of Kopers bediening     duration            360            0          360    \n",
      "                                             mean                  0                 \n",
      "                                             std.deviation         0                 \n",
      "\n",
      "                                             minimum               0                 \n",
      "                                             median                0                 \n",
      "                                             90% percentile        0                 \n",
      "                                             95% percentile        0                 \n",
      "                                             maximum               0                 \n",
      "\n",
      "Length of stay in requesters of Kopers bedienentries             314          314            0    \n",
      "                                             mean                  0            0    \n",
      "                                             std.deviation         0            0    \n",
      "\n",
      "                                             minimum               0            0    \n",
      "                                             median                0            0    \n",
      "                                             90% percentile        0            0    \n",
      "                                             95% percentile        0            0    \n",
      "                                             maximum               0            0    \n",
      "\n",
      "Length of claimers of Kopers bediening       duration            360          312.316       47.684\n",
      "                                             mean                  1.823        2.102\n",
      "                                             std.deviation         1.156        0.977\n",
      "\n",
      "                                             minimum               0            1    \n",
      "                                             median                2            2    \n",
      "                                             90% percentile        3            4    \n",
      "                                             95% percentile        4            4    \n",
      "                                             maximum               4            4    \n",
      "\n",
      "Length of stay in claimers of Kopers bedieninentries             312          312            0    \n",
      "                                             mean                  2.086        2.086\n",
      "                                             std.deviation         2.039        2.039\n",
      "\n",
      "                                             minimum               0.010        0.010\n",
      "                                             median                1.422        1.422\n",
      "                                             90% percentile        4.676        4.676\n",
      "                                             95% percentile        6.023        6.023\n",
      "                                             maximum              12.476       12.476\n",
      "\n",
      "Capacity of Kopers bediening                 duration            360          360            0    \n",
      "                                             mean                  4            4    \n",
      "                                             std.deviation         0            0    \n",
      "\n",
      "                                             minimum               4            4    \n",
      "                                             median                4            4    \n",
      "                                             90% percentile        4            4    \n",
      "                                             95% percentile        4            4    \n",
      "                                             maximum               4            4    \n",
      "\n",
      "Available quantity of Kopers bediening       duration            360          324.940       35.060\n",
      "                                             mean                  2.177        2.411\n",
      "                                             std.deviation         1.156        0.956\n",
      "\n",
      "                                             minimum               0            1    \n",
      "                                             median                2            2    \n",
      "                                             90% percentile        4            4    \n",
      "                                             95% percentile        4            4    \n",
      "                                             maximum               4            4    \n",
      "\n",
      "Claimed quantity of Kopers bediening         duration            360          312.316       47.684\n",
      "                                             mean                  1.823        2.102\n",
      "                                             std.deviation         1.156        0.977\n",
      "\n",
      "                                             minimum               0            1    \n",
      "                                             median                2            2    \n",
      "                                             90% percentile        3            4    \n",
      "                                             95% percentile        4            4    \n",
      "                                             maximum               4            4    \n",
      "\n",
      "Occupancy of Kopers bediening                duration            360          312.316       47.684\n",
      "                                             mean                  0.456        0.525\n",
      "                                             std.deviation         0.289        0.244\n",
      "\n",
      "                                             minimum               0            0.250\n",
      "                                             median                0.500        0.500\n",
      "                                             90% percentile        0.750        1    \n",
      "                                             95% percentile        1            1    \n",
      "                                             maximum               1            1    \n",
      "\n"
     ]
    }
   ],
   "source": [
    "# genereer klanten\n",
    "class KlantenGenerator(sim.Component):\n",
    "    def process(self):\n",
    "        while True:\n",
    "            if random.uniform(0,1) <= 0.4:\n",
    "                Eter()\n",
    "                stats['eters']+=1\n",
    "            else:\n",
    "                Koper()\n",
    "                stats['kopers']+=1\n",
    "            self.hold(sim.Exponential(2/3).sample())\n",
    "\n",
    "# sluit nieuwe klant aan in de wachtrij\n",
    "class Eter(sim.Component):\n",
    "    def process(self):\n",
    "        if Eters_b.requesters().length() < 2:\n",
    "            self.request(Eters_b)\n",
    "            self.hold(sim.Normal(9, 1).sample())\n",
    "            stats['opbrengst_eters']+= sim.Bounded(sim.Normal(20, 2), 0).sample()\n",
    "        else:\n",
    "            stats['eters_afgehaakt']+=1\n",
    "            self.cancel()\n",
    "\n",
    "# stuur nieuwe webshoporder naar de keuken\n",
    "class Koper(sim.Component):\n",
    "    def process(self):\n",
    "        if Kopers_b.claimers().length() < 4:\n",
    "            self.request(Kopers_b)\n",
    "            self.hold(sim.Exponential(2).sample())\n",
    "            stats['opbrengst_kopers']+= sim.Uniform(3, 7).sample()\n",
    "        else:\n",
    "            stats['kopers_afgehaakt']+=1\n",
    "            self.cancel()\n",
    "            \n",
    "# initialiseer simulatie\n",
    "env = sim.Environment(trace=False, random_seed =\"*\")\n",
    "stats = {\"kopers\": 0, \"eters\": 0, \"kopers_afgehaakt\": 0, \"eters_afgehaakt\": 0, 'opbrengst_eters': 0, 'opbrengst_kopers': 0}\n",
    "\n",
    "# simuleer lunchroom\n",
    "KlantenGenerator()\n",
    "Eters_b = sim.Resource('Eters bediening', capacity=4)\n",
    "Kopers_b = sim.Resource('Kopers bediening', capacity=4)\n",
    "\n",
    "\n",
    "\n",
    "# run simulatie voor 250000 minuten\n",
    "env.run(till=6*60)\n",
    "\n",
    "\n",
    "# geef statistieken per wachtrij weer\n",
    "Eters_b.print_statistics()\n",
    "Kopers_b.print_statistics()"
   ]
  },
  {
   "cell_type": "code",
   "execution_count": 29,
   "id": "44f0a845-5a0d-4082-b3a3-5db069f71faf",
   "metadata": {
    "tags": []
   },
   "outputs": [
    {
     "data": {
      "text/plain": [
       "11.317820771202488"
      ]
     },
     "execution_count": 29,
     "metadata": {},
     "output_type": "execute_result"
    }
   ],
   "source": [
    "Eters_b.requesters().length_of_stay.mean() + Eters_b.claimers().length_of_stay.mean()"
   ]
  },
  {
   "cell_type": "code",
   "execution_count": 30,
   "id": "714edfd1-b420-4f8d-9993-dbab9621a775",
   "metadata": {
    "tags": []
   },
   "outputs": [
    {
     "data": {
      "text/plain": [
       "2.0855456035474274"
      ]
     },
     "execution_count": 30,
     "metadata": {},
     "output_type": "execute_result"
    }
   ],
   "source": [
    "Kopers_b.requesters().length_of_stay.mean() + Kopers_b.claimers().length_of_stay.mean()"
   ]
  },
  {
   "cell_type": "code",
   "execution_count": 31,
   "id": "dff0c41f-b758-4d12-bf2f-e012c5f01c96",
   "metadata": {
    "tags": []
   },
   "outputs": [
    {
     "data": {
      "text/plain": [
       "{'kopers': 352,\n",
       " 'eters': 246,\n",
       " 'kopers_afgehaakt': 38,\n",
       " 'eters_afgehaakt': 88,\n",
       " 'opbrengst_eters': 3072.074953016484,\n",
       " 'opbrengst_kopers': 1515.80570806338}"
      ]
     },
     "execution_count": 31,
     "metadata": {},
     "output_type": "execute_result"
    }
   ],
   "source": [
    "stats"
   ]
  },
  {
   "cell_type": "code",
   "execution_count": null,
   "id": "5a791dea-8837-4b40-9a4c-a540f842a422",
   "metadata": {},
   "outputs": [],
   "source": []
  },
  {
   "cell_type": "markdown",
   "id": "1dadff76-0b8e-44f4-8d1c-812a99e99bbb",
   "metadata": {},
   "source": [
    "# Variant C"
   ]
  },
  {
   "cell_type": "code",
   "execution_count": 40,
   "id": "242a952d-664c-40d0-afb2-b9bed298802e",
   "metadata": {
    "collapsed": true,
    "jupyter": {
     "outputs_hidden": true
    },
    "tags": []
   },
   "outputs": [
    {
     "name": "stdout",
     "output_type": "stream",
     "text": [
      "Statistics of Eters bediening at       360.000\n",
      "                                                                     all    excl.zero         zero\n",
      "-------------------------------------------- -------------- ------------ ------------ ------------\n",
      "Length of requesters of Eters bediening      duration            360            0          360    \n",
      "                                             mean                  0                 \n",
      "                                             std.deviation         0                 \n",
      "\n",
      "                                             minimum               0                 \n",
      "                                             median                0                 \n",
      "                                             90% percentile        0                 \n",
      "                                             95% percentile        0                 \n",
      "                                             maximum               0                 \n",
      "\n",
      "Length of stay in requesters of Eters bedienientries             163          163            0    \n",
      "                                             mean                  0            0    \n",
      "                                             std.deviation         0            0    \n",
      "\n",
      "                                             minimum               0            0    \n",
      "                                             median                0            0    \n",
      "                                             90% percentile        0            0    \n",
      "                                             95% percentile        0            0    \n",
      "                                             maximum               0            0    \n",
      "\n",
      "Length of claimers of Eters bediening        duration            360          356.485        3.515\n",
      "                                             mean                  4.014        4.054\n",
      "                                             std.deviation         1.668        1.628\n",
      "\n",
      "                                             minimum               0            1    \n",
      "                                             median                4            4    \n",
      "                                             90% percentile        6            6    \n",
      "                                             95% percentile        6            6    \n",
      "                                             maximum               6            6    \n",
      "\n",
      "Length of stay in claimers of Eters bedieningentries             158          158            0    \n",
      "                                             mean                  9.038        9.038\n",
      "                                             std.deviation         1.062        1.062\n",
      "\n",
      "                                             minimum               6.275        6.275\n",
      "                                             median                9.011        9.011\n",
      "                                             90% percentile       10.509       10.509\n",
      "                                             95% percentile       10.803       10.803\n",
      "                                             maximum              11.556       11.556\n",
      "\n",
      "Capacity of Eters bediening                  duration            360          360            0    \n",
      "                                             mean                  6            6    \n",
      "                                             std.deviation         0            0    \n",
      "\n",
      "                                             minimum               6            6    \n",
      "                                             median                6            6    \n",
      "                                             90% percentile        6            6    \n",
      "                                             95% percentile        6            6    \n",
      "                                             maximum               6            6    \n",
      "\n",
      "Available quantity of Eters bediening        duration            360          272.012       87.988\n",
      "                                             mean                  1.986        2.628\n",
      "                                             std.deviation         1.668        1.412\n",
      "\n",
      "                                             minimum               0            1    \n",
      "                                             median                2            2    \n",
      "                                             90% percentile        4            5    \n",
      "                                             95% percentile        5            5    \n",
      "                                             maximum               6            6    \n",
      "\n",
      "Claimed quantity of Eters bediening          duration            360          356.485        3.515\n",
      "                                             mean                  4.014        4.054\n",
      "                                             std.deviation         1.668        1.628\n",
      "\n",
      "                                             minimum               0            1    \n",
      "                                             median                4            4    \n",
      "                                             90% percentile        6            6    \n",
      "                                             95% percentile        6            6    \n",
      "                                             maximum               6            6    \n",
      "\n",
      "Occupancy of Eters bediening                 duration            360          356.485        3.515\n",
      "                                             mean                  0.669        0.676\n",
      "                                             std.deviation         0.278        0.271\n",
      "\n",
      "                                             minimum               0            0.167\n",
      "                                             median                0.667        0.667\n",
      "                                             90% percentile        1            1    \n",
      "                                             95% percentile        1            1    \n",
      "                                             maximum               1            1    \n",
      "\n",
      "Statistics of Kopers bediening at       360.000\n",
      "                                                                     all    excl.zero         zero\n",
      "-------------------------------------------- -------------- ------------ ------------ ------------\n",
      "Length of requesters of Kopers bediening     duration            360          128.673      231.327\n",
      "                                             mean                  0.507        1.418\n",
      "                                             std.deviation         0.741        0.493\n",
      "\n",
      "                                             minimum               0            1    \n",
      "                                             median                0            1    \n",
      "                                             90% percentile        2            2    \n",
      "                                             95% percentile        2            2    \n",
      "                                             maximum               2            2    \n",
      "\n",
      "Length of stay in requesters of Kopers bedienentries             272          272            0    \n",
      "                                             mean                  0.668        0.668\n",
      "                                             std.deviation         0.969        0.969\n",
      "\n",
      "                                             minimum               0            0    \n",
      "                                             median                0.010        0.010\n",
      "                                             90% percentile        2.228        2.228\n",
      "                                             95% percentile        2.794        2.794\n",
      "                                             maximum               4.235        4.235\n",
      "\n",
      "Length of claimers of Kopers bediening       duration            360          308.008       51.992\n",
      "                                             mean                  1.445        1.689\n",
      "                                             std.deviation         0.732        0.463\n",
      "\n",
      "                                             minimum               0            1    \n",
      "                                             median                2            2    \n",
      "                                             90% percentile        2            2    \n",
      "                                             95% percentile        2            2    \n",
      "                                             maximum               2            2    \n",
      "\n",
      "Length of stay in claimers of Kopers bedieninentries             270          270            0    \n",
      "                                             mean                  1.910        1.910\n",
      "                                             std.deviation         1.707        1.707\n",
      "\n",
      "                                             minimum               0.009        0.009\n",
      "                                             median                1.488        1.488\n",
      "                                             90% percentile        3.702        3.702\n",
      "                                             95% percentile        4.936        4.936\n",
      "                                             maximum              12.725       12.725\n",
      "\n",
      "Capacity of Kopers bediening                 duration            360          360            0    \n",
      "                                             mean                  2            2    \n",
      "                                             std.deviation         0            0    \n",
      "\n",
      "                                             minimum               2            2    \n",
      "                                             median                2            2    \n",
      "                                             90% percentile        2            2    \n",
      "                                             95% percentile        2            2    \n",
      "                                             maximum               2            2    \n",
      "\n",
      "Available quantity of Kopers bediening       duration            360          147.774      212.226\n",
      "                                             mean                  0.555        1.352\n",
      "                                             std.deviation         0.732        0.478\n",
      "\n",
      "                                             minimum               0            1    \n",
      "                                             median                0            1    \n",
      "                                             90% percentile        2            2    \n",
      "                                             95% percentile        2            2    \n",
      "                                             maximum               2            2    \n",
      "\n",
      "Claimed quantity of Kopers bediening         duration            360          308.008       51.992\n",
      "                                             mean                  1.445        1.689\n",
      "                                             std.deviation         0.732        0.463\n",
      "\n",
      "                                             minimum               0            1    \n",
      "                                             median                2            2    \n",
      "                                             90% percentile        2            2    \n",
      "                                             95% percentile        2            2    \n",
      "                                             maximum               2            2    \n",
      "\n",
      "Occupancy of Kopers bediening                duration            360          308.008       51.992\n",
      "                                             mean                  0.723        0.845\n",
      "                                             std.deviation         0.366        0.231\n",
      "\n",
      "                                             minimum               0            0.500\n",
      "                                             median                1            1    \n",
      "                                             90% percentile        1            1    \n",
      "                                             95% percentile        1            1    \n",
      "                                             maximum               1            1    \n",
      "\n"
     ]
    }
   ],
   "source": [
    "# genereer klanten\n",
    "class KlantenGenerator(sim.Component):\n",
    "    def process(self):\n",
    "        while True:\n",
    "            if random.uniform(0,1) <= 0.4:\n",
    "                Eter()\n",
    "                stats['eters']+=1\n",
    "            else:\n",
    "                Koper()\n",
    "                stats['kopers']+=1\n",
    "            self.hold(sim.Exponential(2/3).sample())\n",
    "\n",
    "# sluit nieuwe klant aan in de wachtrij\n",
    "class Eter(sim.Component):\n",
    "    def process(self):\n",
    "        if Eters_b.claimers().length() < 6:\n",
    "            self.request(Eters_b)\n",
    "            self.hold(sim.Normal(9, 1).sample())\n",
    "            stats['opbrengst_eters']+= sim.Bounded(sim.Normal(20, 2), 0).sample()\n",
    "        else:\n",
    "            stats['eters_afgehaakt']+=1\n",
    "            self.cancel()\n",
    "\n",
    "# stuur nieuwe webshoporder naar de keuken\n",
    "class Koper(sim.Component):\n",
    "    def process(self):\n",
    "        if Kopers_b.requesters().length() < 2:\n",
    "            self.request(Kopers_b)\n",
    "            self.hold(sim.Exponential(2).sample())\n",
    "            stats['opbrengst_kopers']+= sim.Uniform(3, 7).sample()\n",
    "        else:\n",
    "            stats['kopers_afgehaakt']+=1\n",
    "            self.cancel()\n",
    "            \n",
    "# initialiseer simulatie\n",
    "env = sim.Environment(trace=False, random_seed =\"*\")\n",
    "stats = {\"kopers\": 0, \"eters\": 0, \"kopers_afgehaakt\": 0, \"eters_afgehaakt\": 0, 'opbrengst_eters': 0, 'opbrengst_kopers': 0}\n",
    "\n",
    "# simuleer lunchroom\n",
    "KlantenGenerator()\n",
    "Eters_b = sim.Resource('Eters bediening', capacity=6)\n",
    "Kopers_b = sim.Resource('Kopers bediening', capacity=2)\n",
    "\n",
    "\n",
    "\n",
    "# run simulatie voor 250000 minuten\n",
    "env.run(till=6*60)\n",
    "\n",
    "\n",
    "# geef statistieken per wachtrij weer\n",
    "Eters_b.print_statistics()\n",
    "Kopers_b.print_statistics()"
   ]
  },
  {
   "cell_type": "code",
   "execution_count": 37,
   "id": "98158ffb-35b0-43af-83d9-b01462d64a62",
   "metadata": {
    "tags": []
   },
   "outputs": [
    {
     "data": {
      "text/plain": [
       "8.860221293935357"
      ]
     },
     "execution_count": 37,
     "metadata": {},
     "output_type": "execute_result"
    }
   ],
   "source": [
    "Eters_b.requesters().length_of_stay.mean() + Eters_b.claimers().length_of_stay.mean()"
   ]
  },
  {
   "cell_type": "code",
   "execution_count": 38,
   "id": "d91086d5-5346-4b6d-afd5-6e72d7a76566",
   "metadata": {
    "tags": []
   },
   "outputs": [
    {
     "data": {
      "text/plain": [
       "2.5360646369331556"
      ]
     },
     "execution_count": 38,
     "metadata": {},
     "output_type": "execute_result"
    }
   ],
   "source": [
    "Kopers_b.requesters().length_of_stay.mean() + Kopers_b.claimers().length_of_stay.mean()\n"
   ]
  },
  {
   "cell_type": "code",
   "execution_count": 41,
   "id": "9949cdc9-1641-4d9c-8f06-6a9963dc1dfa",
   "metadata": {
    "tags": []
   },
   "outputs": [
    {
     "data": {
      "text/plain": [
       "{'kopers': 319,\n",
       " 'eters': 214,\n",
       " 'kopers_afgehaakt': 46,\n",
       " 'eters_afgehaakt': 51,\n",
       " 'opbrengst_eters': 3194.5551969340004,\n",
       " 'opbrengst_kopers': 1378.6032062081588}"
      ]
     },
     "execution_count": 41,
     "metadata": {},
     "output_type": "execute_result"
    }
   ],
   "source": [
    "stats"
   ]
  },
  {
   "cell_type": "code",
   "execution_count": null,
   "id": "1d6d5bd0-9d44-4957-8b01-1a8bafd6353e",
   "metadata": {},
   "outputs": [],
   "source": []
  }
 ],
 "metadata": {
  "kernelspec": {
   "display_name": "Python 3 (ipykernel)",
   "language": "python",
   "name": "python3"
  },
  "language_info": {
   "codemirror_mode": {
    "name": "ipython",
    "version": 3
   },
   "file_extension": ".py",
   "mimetype": "text/x-python",
   "name": "python",
   "nbconvert_exporter": "python",
   "pygments_lexer": "ipython3",
   "version": "3.10.12"
  }
 },
 "nbformat": 4,
 "nbformat_minor": 5
}
