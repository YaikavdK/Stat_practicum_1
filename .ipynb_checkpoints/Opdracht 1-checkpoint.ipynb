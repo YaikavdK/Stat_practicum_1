{
 "cells": [
  {
   "cell_type": "markdown",
   "id": "38684c6c-2516-40aa-ab1d-4e620b0ec06f",
   "metadata": {},
   "source": [
    "# Practicumopdracht 1\n",
    "\n",
    "In deze opdracht wordt gekeken naar een pastaria: *La Cucina della Nonna*. Vanwege wettelijke beperkingen worden veel mensen weggestuurd voordat zij hier bediend kunnen worden. De pastaria wil deze situatie graag verbeteren en een groter aantal klanten serveren. Hiervoor zijn drie oplossingen bedacht, en in deze opdracht wordt gekeken, met behulp van een simulatie, welke oplossing het beste past bij de pastaria. De beste wordt gedefinieerd als de oplossing die het snelst wordt terugverdiend.\n",
    "\n",
    "Hierbij zijn de volgende aannames gemaakt:\n",
    "- Klanten komen altijd alleen\n",
    "- Er is geen sprakte van balking of reneging (= Ze gaan niet-niet in de rij staan of verlaten de wachtrij)\n",
    "- Na sluitingstijd worden de klanten die al bij de pastaria in de wachtrij staan nog geholpen"
   ]
  },
  {
   "cell_type": "code",
   "execution_count": 2,
   "id": "c6403b78-9819-4d12-a719-2ea94e80f506",
   "metadata": {
    "tags": []
   },
   "outputs": [],
   "source": [
    "# importeren packages\n",
    "import salabim as sim\n",
    "import numpy as np\n",
    "import pandas as pd\n",
    "from matplotlib import pyplot as plt\n",
    "import seaborn as sns\n",
    "from collections import Counter\n",
    "import statsmodels.stats.weightstats\n",
    "import random"
   ]
  },
  {
   "cell_type": "markdown",
   "id": "974751ab-bebc-4f6d-a7a7-9156c976aa44",
   "metadata": {},
   "source": [
    "### Huidige situatie\n",
    "\n",
    "Hieronder wordt de huidige situatie van de pastaria gesimuleerd. Om een zo'n goed mogelijk resultaat te krijgen is de simulatie met behulp van Monte Carlo 200 keer uitgevoerd. De resultaten van elke individuele simulatie wordt opgeslagen in een DataFrame.\n",
    "\n",
    "In deze dataframe word onderandere het volgende opgeslagen:\n",
    "\n",
    "- Aantal kopers die aankomen bij de pastaria.\n",
    "- Aantal eters die aankomen bij de pastaria.\n",
    "- Aantal kopers die niet bediend kunnen worden en teleurgesteld naar huis gaan.\n",
    "- Aantal eters die niet bediend kunnen worden en teleurgesteld naar huis gaan.\n",
    "- De totale omzet van de pastaria.\n",
    "\n",
    "In de <u>huidige situatie</u> worden er maximaal 2 eters tegelijkertijd bediend, 4 eters kunnen in de wachtrij, 1 koper wordt tegelijkertijd bediend en er mogen 3 kopers tegelijkertijd wachten. De pastaria is open voor 6 uur per dag."
   ]
  },
  {
   "cell_type": "code",
   "execution_count": 41,
   "id": "e2dd6d7c-7f13-46a9-ab7a-43dbc6edcb45",
   "metadata": {
    "tags": []
   },
   "outputs": [
    {
     "data": {
      "text/html": [
       "<div>\n",
       "<style scoped>\n",
       "    .dataframe tbody tr th:only-of-type {\n",
       "        vertical-align: middle;\n",
       "    }\n",
       "\n",
       "    .dataframe tbody tr th {\n",
       "        vertical-align: top;\n",
       "    }\n",
       "\n",
       "    .dataframe thead th {\n",
       "        text-align: right;\n",
       "    }\n",
       "</style>\n",
       "<table border=\"1\" class=\"dataframe\">\n",
       "  <thead>\n",
       "    <tr style=\"text-align: right;\">\n",
       "      <th></th>\n",
       "      <th>Kopers</th>\n",
       "      <th>Eters</th>\n",
       "      <th>Kopers_afgehaakt</th>\n",
       "      <th>Eters_afgehaakt</th>\n",
       "      <th>Omzet_kopers</th>\n",
       "      <th>Omzet_eters</th>\n",
       "      <th>Omzet</th>\n",
       "      <th>Model</th>\n",
       "    </tr>\n",
       "  </thead>\n",
       "  <tbody>\n",
       "    <tr>\n",
       "      <th>0</th>\n",
       "      <td>314</td>\n",
       "      <td>227</td>\n",
       "      <td>151</td>\n",
       "      <td>144</td>\n",
       "      <td>803.700553</td>\n",
       "      <td>1646.183401</td>\n",
       "      <td>2449.883954</td>\n",
       "      <td>Pastaria huidig</td>\n",
       "    </tr>\n",
       "    <tr>\n",
       "      <th>1</th>\n",
       "      <td>320</td>\n",
       "      <td>233</td>\n",
       "      <td>154</td>\n",
       "      <td>149</td>\n",
       "      <td>825.119622</td>\n",
       "      <td>1679.378687</td>\n",
       "      <td>2504.49831</td>\n",
       "      <td>Pastaria huidig</td>\n",
       "    </tr>\n",
       "    <tr>\n",
       "      <th>2</th>\n",
       "      <td>306</td>\n",
       "      <td>223</td>\n",
       "      <td>142</td>\n",
       "      <td>140</td>\n",
       "      <td>816.061384</td>\n",
       "      <td>1658.622578</td>\n",
       "      <td>2474.683962</td>\n",
       "      <td>Pastaria huidig</td>\n",
       "    </tr>\n",
       "    <tr>\n",
       "      <th>3</th>\n",
       "      <td>326</td>\n",
       "      <td>226</td>\n",
       "      <td>156</td>\n",
       "      <td>142</td>\n",
       "      <td>858.655128</td>\n",
       "      <td>1686.271704</td>\n",
       "      <td>2544.926833</td>\n",
       "      <td>Pastaria huidig</td>\n",
       "    </tr>\n",
       "    <tr>\n",
       "      <th>4</th>\n",
       "      <td>311</td>\n",
       "      <td>215</td>\n",
       "      <td>140</td>\n",
       "      <td>131</td>\n",
       "      <td>840.395567</td>\n",
       "      <td>1685.541604</td>\n",
       "      <td>2525.937171</td>\n",
       "      <td>Pastaria huidig</td>\n",
       "    </tr>\n",
       "  </tbody>\n",
       "</table>\n",
       "</div>"
      ],
      "text/plain": [
       "  Kopers Eters Kopers_afgehaakt Eters_afgehaakt Omzet_kopers  Omzet_eters  \\\n",
       "0    314   227              151             144   803.700553  1646.183401   \n",
       "1    320   233              154             149   825.119622  1679.378687   \n",
       "2    306   223              142             140   816.061384  1658.622578   \n",
       "3    326   226              156             142   858.655128  1686.271704   \n",
       "4    311   215              140             131   840.395567  1685.541604   \n",
       "\n",
       "         Omzet            Model  \n",
       "0  2449.883954  Pastaria huidig  \n",
       "1   2504.49831  Pastaria huidig  \n",
       "2  2474.683962  Pastaria huidig  \n",
       "3  2544.926833  Pastaria huidig  \n",
       "4  2525.937171  Pastaria huidig  "
      ]
     },
     "metadata": {},
     "output_type": "display_data"
    }
   ],
   "source": [
    "# Lijsten van resultaten van de losse simulaties\n",
    "kopers = []\n",
    "eters = []\n",
    "kopers_afgehaakt = []\n",
    "eters_afgehaakt = []\n",
    "omzet_kopers = []\n",
    "omzet_eters = []\n",
    "omzet = []\n",
    "model = []\n",
    "\n",
    "# Genereer klanten\n",
    "class KlantenGenerator(sim.Component):\n",
    "    def process(self):\n",
    "        while self.env.now() < 6*60:   # Alleen klanten genereren zolang de pastaria open is\n",
    "            if random.uniform(0,1) <= 0.4:  # 40% eters\n",
    "                Eter()\n",
    "                stats['eters'] += 1\n",
    "            else:                           # 60% kopers\n",
    "                Koper()\n",
    "                stats['kopers'] += 1\n",
    "            # Gemiddeld 1.5 klant per minuut\n",
    "            self.hold(sim.Exponential(2/3).sample())\n",
    "\n",
    "# Eter die aangekomen is (die hopelijk) in de wachtrij mag gaan staan en daarna eten\n",
    "class Eter(sim.Component):\n",
    "    def process(self):\n",
    "        if Eters_b.requesters().length() < 4:  # Max wachtrij = 4\n",
    "            self.request(Eters_b)\n",
    "            self.hold(sim.Normal(9, 1).sample())  # Bedieningstijd\n",
    "            omzet = sim.Bounded(sim.Normal(20, 2), 0).sample() # Omzet van een eter, volgt normaal verdeling, omzet kan niet negatief zijn.\n",
    "            stats['opbrengst_eters'] += omzet\n",
    "        else:\n",
    "            stats['eters_afgehaakt'] += 1 # Eter die niet in de wachtrij plaats kon nemen, en weer teleurgesteld naar huis moet.\n",
    "            self.cancel()\n",
    "\n",
    "# Koper die aangekomen is (die hopelijk) in de wachtrij mag gaan staan en daarna eten meenemen naar huis!\n",
    "class Koper(sim.Component):\n",
    "    def process(self):\n",
    "        if Kopers_b.requesters().length() < 3:  # Max wachtrij = 3\n",
    "            self.request(Kopers_b)\n",
    "            self.hold(sim.Exponential(2).sample())  # Bedieningstijd\n",
    "            omzet = sim.Uniform(3, 7).sample() # Omzet van een koper, volgt uniforme verdeling.\n",
    "            stats['opbrengst_kopers'] += omzet\n",
    "        else:\n",
    "            stats['kopers_afgehaakt'] += 1 # Teleurgestelde koper die naar huis moet\n",
    "            self.cancel()\n",
    "\n",
    "# Uitvoeren van 200 simulaties (Monte Carlo)\n",
    "for i in range(200):\n",
    "    env = sim.Environment(trace=False, random_seed=\"*\")\n",
    "    stats = {\"kopers\": 0, \"eters\": 0, \"kopers_afgehaakt\": 0, \"eters_afgehaakt\": 0,\"opbrengst_eters\": 0, \"opbrengst_kopers\": 0}\n",
    "\n",
    "    KlantenGenerator()\n",
    "    Eters_b = sim.Resource('Eters bediening', capacity=2)\n",
    "    Kopers_b = sim.Resource('Kopers bediening', capacity=1)\n",
    "\n",
    "    # Uitvoeren v/d simulatie\n",
    "    env.run()\n",
    "\n",
    "    # Resultaten opslaan\n",
    "    kopers.append(stats['kopers'])\n",
    "    eters.append(stats['eters'])\n",
    "    kopers_afgehaakt.append(stats['kopers_afgehaakt'])\n",
    "    eters_afgehaakt.append(stats['eters_afgehaakt'])\n",
    "    omzet_kopers.append(stats['opbrengst_kopers'])\n",
    "    omzet_eters.append(stats['opbrengst_eters'])\n",
    "    omzet.append(stats['opbrengst_kopers'] + stats['opbrengst_eters'])\n",
    "    model.append(\"Pastaria huidig\")\n",
    "\n",
    "df1 = pd.DataFrame([kopers, eters, kopers_afgehaakt, eters_afgehaakt, omzet_kopers, omzet_eters, omzet, model]).T\n",
    "df1 = df1.rename({0: 'Kopers', 1: 'Eters', 2: 'Kopers_afgehaakt', 3: 'Eters_afgehaakt', 4: 'Omzet_kopers', 5: 'Omzet_eters', 6: 'Omzet',7: 'Model'}, axis='columns')\n",
    "\n",
    "# Eerste rijen van de dataframe laten zien.\n",
    "display(df1.head())\n"
   ]
  },
  {
   "cell_type": "markdown",
   "id": "66a08dd6-f7f0-415f-ac9b-4157a347f2e5",
   "metadata": {},
   "source": [
    "# Variant A"
   ]
  },
  {
   "cell_type": "code",
   "execution_count": 5,
   "id": "a9b7fb34-52c9-4d03-b392-af7d46cf8650",
   "metadata": {
    "tags": []
   },
   "outputs": [],
   "source": [
    "kopers = []\n",
    "eters = []\n",
    "kopers_afgehaakt = []\n",
    "eters_afgehaakt = []\n",
    "omzet_kopers = []\n",
    "omzet_eters = []\n",
    "omzet = []\n",
    "model = []\n",
    "\n",
    "# genereer klanten\n",
    "class KlantenGenerator(sim.Component):\n",
    "    def process(self):\n",
    "        while self.env.now() < 8*60:\n",
    "            if random.uniform(0,1) <= 0.4:\n",
    "                Eter()\n",
    "                stats['eters']+=1\n",
    "            else:\n",
    "                Koper()\n",
    "                stats['kopers']+=1\n",
    "            self.hold(sim.Exponential(2/3).sample())\n",
    "\n",
    "# sluit nieuwe klant aan in de wachtrij\n",
    "class Eter(sim.Component):\n",
    "    def process(self):\n",
    "        if Eters_b.requesters().length() < 4:\n",
    "            self.request(Eters_b)\n",
    "            self.hold(sim.Normal(9, 1).sample())\n",
    "            stats['opbrengst_eters']+= sim.Bounded(sim.Normal(20, 2), 0).sample()\n",
    "        else:\n",
    "            stats['eters_afgehaakt']+=1\n",
    "            self.cancel()\n",
    "\n",
    "# stuur nieuwe webshoporder naar de keuken\n",
    "class Koper(sim.Component):\n",
    "    def process(self):\n",
    "        if Kopers_b.requesters().length() < 3:\n",
    "            self.request(Kopers_b)\n",
    "            self.hold(sim.Exponential(2).sample())\n",
    "            stats['opbrengst_kopers']+= sim.Uniform(3, 7).sample()\n",
    "        else:\n",
    "            stats['kopers_afgehaakt']+=1\n",
    "            self.cancel()\n",
    "            \n",
    "for i in range(200):\n",
    "    # initialiseer simulatie\n",
    "    env = sim.Environment(trace=False, random_seed =\"*\")\n",
    "    stats = {\"kopers\": 0, \"eters\": 0, \"kopers_afgehaakt\": 0, \"eters_afgehaakt\": 0, 'opbrengst_eters': 0, 'opbrengst_kopers': 0}\n",
    "\n",
    "    # simuleer lunchroom\n",
    "    KlantenGenerator()\n",
    "    Eters_b = sim.Resource('Eters bediening', capacity=2)\n",
    "    Kopers_b = sim.Resource('Kopers bediening', capacity=1)\n",
    "\n",
    "\n",
    "\n",
    "    # run simulatie voor 250000 minuten\n",
    "    env.run()\n",
    "    kopers.append(stats['kopers'])\n",
    "    eters.append(stats['eters'])\n",
    "    kopers_afgehaakt.append(stats['kopers_afgehaakt'])\n",
    "    eters_afgehaakt.append(stats['eters_afgehaakt'])\n",
    "    omzet_kopers.append(stats['opbrengst_kopers'])\n",
    "    omzet_eters.append(stats['opbrengst_eters'])\n",
    "    omzet.append(stats['opbrengst_kopers'] + stats['opbrengst_eters'])\n",
    "    model.append(\"VartiantA\")\n",
    "\n",
    "df2 = pd.DataFrame([kopers, eters, kopers_afgehaakt, eters_afgehaakt, omzet_kopers, omzet_eters, omzet, model]).T\n",
    "df2 = df2.rename({0: 'Kopers', 1: 'Eters', 2: 'Kopers_afgehaakt', 3: 'Eters_afgehaakt', 4: 'Omzet_kopers', 5: 'Omzet_eters', 6: 'Omzet', 7: 'model'}, axis='columns')"
   ]
  },
  {
   "cell_type": "code",
   "execution_count": 7,
   "id": "6ebf9fbf-b19a-4a2c-b53d-ccd3e2a09adb",
   "metadata": {
    "tags": []
   },
   "outputs": [
    {
     "data": {
      "text/plain": [
       "24.806833443832183"
      ]
     },
     "execution_count": 7,
     "metadata": {},
     "output_type": "execute_result"
    }
   ],
   "source": [
    "Eters_b.requesters().length_of_stay.mean() + Eters_b.claimers().length_of_stay.mean()"
   ]
  },
  {
   "cell_type": "code",
   "execution_count": 8,
   "id": "36805a53-df8b-4b3d-9abf-5703009d10df",
   "metadata": {
    "tags": []
   },
   "outputs": [
    {
     "data": {
      "text/plain": [
       "6.733810902829672"
      ]
     },
     "execution_count": 8,
     "metadata": {},
     "output_type": "execute_result"
    }
   ],
   "source": [
    "Kopers_b.requesters().length_of_stay.mean() + Kopers_b.claimers().length_of_stay.mean()"
   ]
  },
  {
   "cell_type": "code",
   "execution_count": 9,
   "id": "7a91dc66-3a3b-4642-bf38-1bfc7acb9e99",
   "metadata": {
    "tags": []
   },
   "outputs": [
    {
     "data": {
      "text/plain": [
       "{'kopers': 422,\n",
       " 'eters': 288,\n",
       " 'kopers_afgehaakt': 200,\n",
       " 'eters_afgehaakt': 178,\n",
       " 'opbrengst_eters': 2217.6410719780015,\n",
       " 'opbrengst_kopers': 1117.648773555792}"
      ]
     },
     "execution_count": 9,
     "metadata": {},
     "output_type": "execute_result"
    }
   ],
   "source": [
    "stats"
   ]
  },
  {
   "cell_type": "markdown",
   "id": "9c85448a-b8d0-4321-82f8-38b71ce24cc1",
   "metadata": {},
   "source": [
    "# Variant B"
   ]
  },
  {
   "cell_type": "code",
   "execution_count": 10,
   "id": "cf456bd6-564e-4299-9614-4da02a496aa0",
   "metadata": {
    "tags": []
   },
   "outputs": [],
   "source": [
    "kopers = []\n",
    "eters = []\n",
    "kopers_afgehaakt = []\n",
    "eters_afgehaakt = []\n",
    "omzet_kopers = []\n",
    "omzet_eters = []\n",
    "omzet = []\n",
    "model = []\n",
    "# genereer klanten\n",
    "class KlantenGenerator(sim.Component):\n",
    "    def process(self):\n",
    "        while self.env.now() < 6*60:\n",
    "            if random.uniform(0,1) <= 0.4:\n",
    "                Eter()\n",
    "                stats['eters']+=1\n",
    "            else:\n",
    "                Koper()\n",
    "                stats['kopers']+=1\n",
    "            self.hold(sim.Exponential(2/3).sample())\n",
    "\n",
    "# sluit nieuwe klant aan in de wachtrij\n",
    "class Eter(sim.Component):\n",
    "    def process(self):\n",
    "        if Eters_b.requesters().length() < 2:\n",
    "            self.request(Eters_b)\n",
    "            self.hold(sim.Normal(9, 1).sample())\n",
    "            stats['opbrengst_eters']+= sim.Bounded(sim.Normal(20, 2), 0).sample()\n",
    "        else:\n",
    "            stats['eters_afgehaakt']+=1\n",
    "            self.cancel()\n",
    "\n",
    "# stuur nieuwe webshoporder naar de keuken\n",
    "class Koper(sim.Component):\n",
    "    def process(self):\n",
    "        if Kopers_b.claimers().length() < 4:\n",
    "            self.request(Kopers_b)\n",
    "            self.hold(sim.Exponential(2).sample())\n",
    "            stats['opbrengst_kopers']+= sim.Uniform(3, 7).sample()\n",
    "        else:\n",
    "            stats['kopers_afgehaakt']+=1\n",
    "            self.cancel()\n",
    "\n",
    "for i in range(200):\n",
    "    # initialiseer simulatie\n",
    "    env = sim.Environment(trace=False, random_seed =\"*\")\n",
    "    stats = {\"kopers\": 0, \"eters\": 0, \"kopers_afgehaakt\": 0, \"eters_afgehaakt\": 0, 'opbrengst_eters': 0, 'opbrengst_kopers': 0}\n",
    "\n",
    "    # simuleer lunchroom\n",
    "    KlantenGenerator()\n",
    "    Eters_b = sim.Resource('Eters bediening', capacity=4)\n",
    "    Kopers_b = sim.Resource('Kopers bediening', capacity=4)\n",
    "\n",
    "\n",
    "\n",
    "    # run simulatie voor 250000 minuten\n",
    "    env.run()\n",
    "    kopers.append(stats['kopers'])\n",
    "    eters.append(stats['eters'])\n",
    "    kopers_afgehaakt.append(stats['kopers_afgehaakt'])\n",
    "    eters_afgehaakt.append(stats['eters_afgehaakt'])\n",
    "    omzet_kopers.append(stats['opbrengst_kopers'])\n",
    "    omzet_eters.append(stats['opbrengst_eters'])\n",
    "    omzet.append(stats['opbrengst_kopers'] + stats['opbrengst_eters'])\n",
    "    model.append(\"VariantB\")\n",
    "\n",
    "df3 = pd.DataFrame([kopers, eters, kopers_afgehaakt, eters_afgehaakt, omzet_kopers, omzet_eters, omzet, model]).T\n",
    "df3 = df3.rename({0: 'Kopers', 1: 'Eters', 2: 'Kopers_afgehaakt', 3: 'Eters_afgehaakt', 4: 'Omzet_kopers', 5: 'Omzet_eters', 6: 'Omzet', 7: 'model'}, axis='columns')"
   ]
  },
  {
   "cell_type": "code",
   "execution_count": 11,
   "id": "44f0a845-5a0d-4082-b3a3-5db069f71faf",
   "metadata": {
    "tags": []
   },
   "outputs": [
    {
     "data": {
      "text/plain": [
       "11.715526930516102"
      ]
     },
     "execution_count": 11,
     "metadata": {},
     "output_type": "execute_result"
    }
   ],
   "source": [
    "Eters_b.requesters().length_of_stay.mean() + Eters_b.claimers().length_of_stay.mean()"
   ]
  },
  {
   "cell_type": "code",
   "execution_count": 12,
   "id": "714edfd1-b420-4f8d-9993-dbab9621a775",
   "metadata": {
    "tags": []
   },
   "outputs": [
    {
     "data": {
      "text/plain": [
       "2.0501980510424422"
      ]
     },
     "execution_count": 12,
     "metadata": {},
     "output_type": "execute_result"
    }
   ],
   "source": [
    "Kopers_b.requesters().length_of_stay.mean() + Kopers_b.claimers().length_of_stay.mean()"
   ]
  },
  {
   "cell_type": "code",
   "execution_count": 13,
   "id": "dff0c41f-b758-4d12-bf2f-e012c5f01c96",
   "metadata": {
    "tags": []
   },
   "outputs": [
    {
     "data": {
      "text/plain": [
       "{'kopers': 326,\n",
       " 'eters': 228,\n",
       " 'kopers_afgehaakt': 29,\n",
       " 'eters_afgehaakt': 72,\n",
       " 'opbrengst_eters': 3156.2576437778243,\n",
       " 'opbrengst_kopers': 1473.9094291192632}"
      ]
     },
     "execution_count": 13,
     "metadata": {},
     "output_type": "execute_result"
    }
   ],
   "source": [
    "stats"
   ]
  },
  {
   "cell_type": "code",
   "execution_count": null,
   "id": "5a791dea-8837-4b40-9a4c-a540f842a422",
   "metadata": {},
   "outputs": [],
   "source": []
  },
  {
   "cell_type": "markdown",
   "id": "1dadff76-0b8e-44f4-8d1c-812a99e99bbb",
   "metadata": {},
   "source": [
    "# Variant C"
   ]
  },
  {
   "cell_type": "code",
   "execution_count": 14,
   "id": "242a952d-664c-40d0-afb2-b9bed298802e",
   "metadata": {
    "tags": []
   },
   "outputs": [],
   "source": [
    "kopers = []\n",
    "eters = []\n",
    "kopers_afgehaakt = []\n",
    "eters_afgehaakt = []\n",
    "omzet_kopers = []\n",
    "omzet_eters = []\n",
    "omzet = []\n",
    "model = []\n",
    "# genereer klanten\n",
    "class KlantenGenerator(sim.Component):\n",
    "    def process(self):\n",
    "        while self.env.now() < 6*60:\n",
    "            if random.uniform(0,1) <= 0.4:\n",
    "                Eter()\n",
    "                stats['eters']+=1\n",
    "            else:\n",
    "                Koper()\n",
    "                stats['kopers']+=1\n",
    "            self.hold(sim.Exponential(2/3).sample())\n",
    "\n",
    "# sluit nieuwe klant aan in de wachtrij\n",
    "class Eter(sim.Component):\n",
    "    def process(self):\n",
    "        if Eters_b.claimers().length() < 6:\n",
    "            self.request(Eters_b)\n",
    "            self.hold(sim.Normal(9, 1).sample())\n",
    "            stats['opbrengst_eters']+= sim.Bounded(sim.Normal(20, 2), 0).sample()\n",
    "        else:\n",
    "            stats['eters_afgehaakt']+=1\n",
    "            self.cancel()\n",
    "\n",
    "# stuur nieuwe webshoporder naar de keuken\n",
    "class Koper(sim.Component):\n",
    "    def process(self):\n",
    "        if Kopers_b.requesters().length() < 2:\n",
    "            self.request(Kopers_b)\n",
    "            self.hold(sim.Exponential(2).sample())\n",
    "            stats['opbrengst_kopers']+= sim.Uniform(3, 7).sample()\n",
    "        else:\n",
    "            stats['kopers_afgehaakt']+=1\n",
    "            self.cancel()\n",
    "            \n",
    "for i in range(200):\n",
    "    # initialiseer simulatie\n",
    "    env = sim.Environment(trace=False, random_seed =\"*\")\n",
    "    stats = {\"kopers\": 0, \"eters\": 0, \"kopers_afgehaakt\": 0, \"eters_afgehaakt\": 0, 'opbrengst_eters': 0, 'opbrengst_kopers': 0}\n",
    "\n",
    "    # simuleer lunchroom\n",
    "    KlantenGenerator()\n",
    "    Eters_b = sim.Resource('Eters bediening', capacity=6)\n",
    "    Kopers_b = sim.Resource('Kopers bediening', capacity=2)\n",
    "\n",
    "\n",
    "\n",
    "    # run simulatie voor 250000 minuten\n",
    "    env.run()\n",
    "    kopers.append(stats['kopers'])\n",
    "    eters.append(stats['eters'])\n",
    "    kopers_afgehaakt.append(stats['kopers_afgehaakt'])\n",
    "    eters_afgehaakt.append(stats['eters_afgehaakt'])\n",
    "    omzet_kopers.append(stats['opbrengst_kopers'])\n",
    "    omzet_eters.append(stats['opbrengst_eters'])\n",
    "    omzet.append(stats['opbrengst_kopers'] + stats['opbrengst_eters'])\n",
    "    model.append(\"VariantC\")\n",
    "\n",
    "df4 = pd.DataFrame([kopers, eters, kopers_afgehaakt, eters_afgehaakt, omzet_kopers, omzet_eters, omzet, model]).T\n",
    "df4 = df4.rename({0: 'Kopers', 1: 'Eters', 2: 'Kopers_afgehaakt', 3: 'Eters_afgehaakt', 4: 'Omzet_kopers', 5: 'Omzet_eters', 6: 'Omzet', 7: 'model'}, axis='columns')"
   ]
  },
  {
   "cell_type": "code",
   "execution_count": 15,
   "id": "98158ffb-35b0-43af-83d9-b01462d64a62",
   "metadata": {
    "tags": []
   },
   "outputs": [
    {
     "data": {
      "text/plain": [
       "9.037854420578983"
      ]
     },
     "execution_count": 15,
     "metadata": {},
     "output_type": "execute_result"
    }
   ],
   "source": [
    "Eters_b.requesters().length_of_stay.mean() + Eters_b.claimers().length_of_stay.mean()"
   ]
  },
  {
   "cell_type": "code",
   "execution_count": 16,
   "id": "d91086d5-5346-4b6d-afd5-6e72d7a76566",
   "metadata": {
    "tags": []
   },
   "outputs": [
    {
     "data": {
      "text/plain": [
       "2.363390088836435"
      ]
     },
     "execution_count": 16,
     "metadata": {},
     "output_type": "execute_result"
    }
   ],
   "source": [
    "Kopers_b.requesters().length_of_stay.mean() + Kopers_b.claimers().length_of_stay.mean()\n"
   ]
  },
  {
   "cell_type": "code",
   "execution_count": 18,
   "id": "9949cdc9-1641-4d9c-8f06-6a9963dc1dfa",
   "metadata": {
    "tags": []
   },
   "outputs": [
    {
     "data": {
      "text/plain": [
       "{'kopers': 314,\n",
       " 'eters': 232,\n",
       " 'kopers_afgehaakt': 35,\n",
       " 'eters_afgehaakt': 64,\n",
       " 'opbrengst_eters': 3339.9401393026005,\n",
       " 'opbrengst_kopers': 1385.0252407715418}"
      ]
     },
     "execution_count": 18,
     "metadata": {},
     "output_type": "execute_result"
    }
   ],
   "source": [
    "stats"
   ]
  },
  {
   "cell_type": "markdown",
   "id": "780130f4-c544-46ba-84b5-70973f97d038",
   "metadata": {},
   "source": [
    "# Kosten terugverdienst-praktijken"
   ]
  },
  {
   "cell_type": "code",
   "execution_count": 35,
   "id": "39e8ea19-3af5-492e-93f6-64710978b897",
   "metadata": {
    "tags": []
   },
   "outputs": [
    {
     "data": {
      "text/plain": [
       "45.87532023911187"
      ]
     },
     "execution_count": 35,
     "metadata": {},
     "output_type": "execute_result"
    }
   ],
   "source": [
    "np.mean(df1['Kopers_afgehaakt'])/np.mean(df1['Kopers'])*100"
   ]
  },
  {
   "cell_type": "code",
   "execution_count": 34,
   "id": "26e5d055-f686-4ef2-9017-5cc388fee179",
   "metadata": {
    "tags": []
   },
   "outputs": [
    {
     "data": {
      "text/plain": [
       "61.07320457962299"
      ]
     },
     "execution_count": 34,
     "metadata": {},
     "output_type": "execute_result"
    }
   ],
   "source": [
    "np.mean(df1['Eters_afgehaakt'])/np.mean(df1['Eters'])*100"
   ]
  },
  {
   "cell_type": "code",
   "execution_count": 36,
   "id": "1bc6111d-a76f-4041-b3af-85af3d2264f0",
   "metadata": {
    "tags": []
   },
   "outputs": [
    {
     "data": {
      "text/plain": [
       "7.519564477713507"
      ]
     },
     "execution_count": 36,
     "metadata": {},
     "output_type": "execute_result"
    }
   ],
   "source": [
    "np.mean(df3['Kopers_afgehaakt'])/np.mean(df3['Kopers'])*100"
   ]
  },
  {
   "cell_type": "code",
   "execution_count": 37,
   "id": "2db4d175-a941-4602-9063-5e2f0b74aa92",
   "metadata": {
    "tags": []
   },
   "outputs": [
    {
     "data": {
      "text/plain": [
       "30.247990815154992"
      ]
     },
     "execution_count": 37,
     "metadata": {},
     "output_type": "execute_result"
    }
   ],
   "source": [
    "np.mean(df3['Eters_afgehaakt'])/np.mean(df3['Eters'])*100"
   ]
  },
  {
   "cell_type": "code",
   "execution_count": 38,
   "id": "f6136d14-6e7a-45ee-86d9-a30d650dcf80",
   "metadata": {
    "tags": []
   },
   "outputs": [
    {
     "data": {
      "text/plain": [
       "-83.6086932177913"
      ]
     },
     "execution_count": 38,
     "metadata": {},
     "output_type": "execute_result"
    }
   ],
   "source": [
    "((7.519564477713507-45.87532023911187)/45.87532023911187) * 100"
   ]
  },
  {
   "cell_type": "code",
   "execution_count": 26,
   "id": "ecbcd4a4-ca9b-4ea7-b283-e354a1a3d978",
   "metadata": {
    "tags": []
   },
   "outputs": [
    {
     "name": "stdout",
     "output_type": "stream",
     "text": [
      "73.43929624419357 60.61108442729091 69.58484098463711\n"
     ]
    }
   ],
   "source": [
    "huidig_omzet = np.mean(df1['Omzet'])\n",
    "varianta_omzet = np.mean(df2['Omzet'])\n",
    "variantb_omzet = np.mean(df3['Omzet'])\n",
    "variantc_omzet = np.mean(df4['Omzet'])\n",
    "\n",
    "verschil_a = varianta_omzet - huidig_omzet\n",
    "verschil_b = variantb_omzet - huidig_omzet\n",
    "verschil_c = variantc_omzet - huidig_omzet\n",
    "\n",
    "dagen_a = 60000/verschil_a\n",
    "dagen_b = 120000 / verschil_b\n",
    "dagen_c = 150000 / verschil_c\n",
    "\n",
    "print(dagen_a, dagen_b, dagen_c)"
   ]
  },
  {
   "cell_type": "markdown",
   "id": "e98b6166-afaf-4ef1-8d59-37a2c68c9cbe",
   "metadata": {},
   "source": [
    "> Optie b wordt het snelste terug verdiend"
   ]
  },
  {
   "cell_type": "code",
   "execution_count": 20,
   "id": "6c68e54e-aa67-44cf-87b3-f0401e36aa0e",
   "metadata": {
    "tags": []
   },
   "outputs": [],
   "source": [
    "verschil = [df3['Omzet'] - df1['Omzet']]"
   ]
  },
  {
   "cell_type": "code",
   "execution_count": 21,
   "id": "17f81d96-b637-4d49-a3f0-4b29bae887a3",
   "metadata": {
    "tags": []
   },
   "outputs": [
    {
     "data": {
      "text/plain": [
       "<Axes: ylabel='Count'>"
      ]
     },
     "execution_count": 21,
     "metadata": {},
     "output_type": "execute_result"
    },
    {
     "data": {
      "image/png": "[encoded data removed]",
      "text/plain": [
       "<Figure size 640x480 with 1 Axes>"
      ]
     },
     "metadata": {},
     "output_type": "display_data"
    }
   ],
   "source": [
    "sns.histplot(verschil)"
   ]
  },
  {
   "cell_type": "code",
   "execution_count": 22,
   "id": "58f09571-5309-46ed-a9a0-eddb9727eef5",
   "metadata": {
    "tags": []
   },
   "outputs": [
    {
     "name": "stdout",
     "output_type": "stream",
     "text": [
      "n=200, mean=1979.836\n",
      "Shapiro: stat=0.992, p=0.3895\n",
      "D'Agostino K²: stat=0.540, p=0.7633\n",
      "Anderson: stat=0.348, critical=[0.565, 0.644, 0.772, 0.901, 1.071], siglvl=[15.0, 10.0, 5.0, 2.5, 1.0]\n",
      "KS (z~N(0,1)): stat=0.043, p=0.8289\n",
      "Shapiro: geen bewijs tégen normaliteit\n",
      "D’Agostino: geen bewijs tégen normaliteit\n",
      "KS: geen bewijs tégen normaliteit\n"
     ]
    }
   ],
   "source": [
    "import numpy as np\n",
    "import pandas as pd\n",
    "from scipy import stats\n",
    "\n",
    "# 1) Verschil als float en opschonen\n",
    "verschil = pd.to_numeric(df3['Omzet'], errors='coerce') - pd.to_numeric(df1['Omzet'], errors='coerce')\n",
    "x = verschil.to_numpy(dtype='float64')\n",
    "\n",
    "# Drop NaN/inf\n",
    "x = x[np.isfinite(x)]\n",
    "n = x.size\n",
    "sd = x.std(ddof=1) if n > 1 else np.nan\n",
    "\n",
    "print(f\"n={n}, mean={x.mean():.3f}\" if n else \"Geen data over na opschonen.\")\n",
    "\n",
    "results = {}\n",
    "\n",
    "# 2) Shapiro–Wilk (3 <= n <= 5000)\n",
    "if 3 <= n <= 5000:\n",
    "    sw_stat, sw_p = stats.shapiro(x)\n",
    "    results['Shapiro'] = (sw_stat, sw_p)\n",
    "\n",
    "# 3) D’Agostino & Pearson K² (n >= 8)\n",
    "if n >= 8:\n",
    "    k2_stat, k2_p = stats.normaltest(x, nan_policy='omit')\n",
    "    results[\"D'Agostino K²\"] = (k2_stat, k2_p)\n",
    "\n",
    "# 4) Anderson–Darling (altijd ok)\n",
    "ad_res = stats.anderson(x, dist='norm')\n",
    "results['Anderson'] = (ad_res.statistic, list(ad_res.critical_values), list(ad_res.significance_level))\n",
    "\n",
    "# 5) KS op genormaliseerde data (alleen als sd>0)\n",
    "if n >= 3 and np.isfinite(sd) and sd > 0:\n",
    "    z = (x - x.mean()) / sd\n",
    "    ks_stat, ks_p = stats.kstest(z, 'norm')\n",
    "    results['KS (z~N(0,1))'] = (ks_stat, ks_p)\n",
    "\n",
    "# 6) Netjes printen\n",
    "for name, val in results.items():\n",
    "    if name == 'Anderson':\n",
    "        stat, crit, sig = val\n",
    "        print(f\"{name}: stat={stat:.3f}, critical={crit}, siglvl={sig}\")\n",
    "    else:\n",
    "        stat, p = val\n",
    "        print(f\"{name}: stat={stat:.3f}, p={p:.4f}\")\n",
    "\n",
    "# (optioneel) snelle interpretatie:\n",
    "def interpret_p(p): return \"geen bewijs tégen normaliteit\" if p >= 0.05 else \"verwerp normaliteit\"\n",
    "if 'Shapiro' in results:\n",
    "    print(\"Shapiro:\", interpret_p(results['Shapiro'][1]))\n",
    "if \"D'Agostino K²\" in results:\n",
    "    print(\"D’Agostino:\", interpret_p(results[\"D'Agostino K²\"][1]))\n",
    "if 'KS (z~N(0,1))' in results:\n",
    "    print(\"KS:\", interpret_p(results['KS (z~N(0,1))'][1]))\n"
   ]
  },
  {
   "cell_type": "code",
   "execution_count": 23,
   "id": "546aa19e-8242-45dc-956a-807ff1c5c473",
   "metadata": {
    "tags": []
   },
   "outputs": [
    {
     "name": "stdout",
     "output_type": "stream",
     "text": [
      "95% CI dagen_b: (60.09737974956768, 61.133646984142835)\n"
     ]
    }
   ],
   "source": [
    "# gemiddelde en standaardfout van verschil\n",
    "mean_diff = np.mean(df3['Omzet']) - np.mean(df1['Omzet'])\n",
    "se_diff   = np.sqrt(np.var(df3['Omzet'], ddof=1)/len(df3) +\n",
    "                    np.var(df1['Omzet'], ddof=1)/len(df1))\n",
    "\n",
    "# 95% CI van verschil\n",
    "z = 1.96\n",
    "ci_diff = (mean_diff - z*se_diff, mean_diff + z*se_diff)\n",
    "\n",
    "# omzet naar dagen\n",
    "ci_dagen = (120000/ci_diff[1], 120000/ci_diff[0])  # let op: omgekeerd delen!\n",
    "print(\"95% CI dagen_b:\", ci_dagen)\n"
   ]
  },
  {
   "cell_type": "code",
   "execution_count": 24,
   "id": "144927b3-f28c-4c7d-a9ba-64e53f56892b",
   "metadata": {
    "tags": []
   },
   "outputs": [
    {
     "data": {
      "text/plain": [
       "0      1970.123205\n",
       "1      1865.383069\n",
       "2      2029.131320\n",
       "3      2247.442166\n",
       "4      1864.886017\n",
       "          ...     \n",
       "195    2055.515581\n",
       "196    1905.114795\n",
       "197    2228.048628\n",
       "198    2047.341421\n",
       "199    1983.610979\n",
       "Name: Omzet, Length: 200, dtype: float64"
      ]
     },
     "execution_count": 24,
     "metadata": {},
     "output_type": "execute_result"
    }
   ],
   "source": [
    "verschil"
   ]
  },
  {
   "cell_type": "markdown",
   "id": "ed4be13e-d51e-4a93-838c-f9b24da8f705",
   "metadata": {},
   "source": [
    "> Slimmme dingen zeggen over CLT en normaal verdeling enzo + grafiekje behouden en uitleggen dat we daarom simpele manier de 95CI mogen berekenen"
   ]
  }
 ],
 "metadata": {
  "kernelspec": {
   "display_name": "Python 3 (ipykernel)",
   "language": "python",
   "name": "python3"
  },
  "language_info": {
   "codemirror_mode": {
    "name": "ipython",
    "version": 3
   },
   "file_extension": ".py",
   "mimetype": "text/x-python",
   "name": "python",
   "nbconvert_exporter": "python",
   "pygments_lexer": "ipython3",
   "version": "3.10.12"
  }
 },
 "nbformat": 4,
 "nbformat_minor": 5
}
