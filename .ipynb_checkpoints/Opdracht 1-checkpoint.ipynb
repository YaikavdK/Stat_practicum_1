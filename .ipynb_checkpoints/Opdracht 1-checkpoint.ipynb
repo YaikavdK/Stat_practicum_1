{
 "cells": [
  {
   "cell_type": "code",
   "execution_count": 2,
   "id": "ec47f59f-c052-4ab1-8646-23c550943ff0",
   "metadata": {},
   "outputs": [],
   "source": [
    "# aankomst rate lambda = 2/3 per minuut\n",
    "#"
   ]
  },
  {
   "cell_type": "code",
   "execution_count": 2,
   "id": "c6403b78-9819-4d12-a719-2ea94e80f506",
   "metadata": {
    "tags": []
   },
   "outputs": [],
   "source": [
    "# importeren packages\n",
    "import salabim as sim\n",
    "import numpy as np\n",
    "import pandas as pd\n",
    "from matplotlib import pyplot as plt\n",
    "import seaborn as sns\n",
    "from collections import Counter\n",
    "import statsmodels.stats.weightstats\n",
    "import random"
   ]
  },
  {
   "cell_type": "code",
   "execution_count": 56,
   "id": "b46c6647-788d-40e4-bd43-6e8936a5e569",
   "metadata": {
    "tags": []
   },
   "outputs": [],
   "source": [
    "kopers = []\n",
    "eters = []\n",
    "kopers_afgehaakt = []\n",
    "eters_afgehaakt = []\n",
    "omzet_kopers = []\n",
    "omzet_eters = []\n",
    "omzet = []\n",
    "model = []\n",
    "\n",
    "# genereer klanten\n",
    "class KlantenGenerator(sim.Component):\n",
    "    def process(self):\n",
    "        while True:\n",
    "            if random.uniform(0,1) <= 0.4:\n",
    "                Eter()\n",
    "                stats['eters']+=1\n",
    "            else:\n",
    "                Koper()\n",
    "                stats['kopers']+=1\n",
    "            self.hold(sim.Exponential(2/3).sample())\n",
    "\n",
    "# sluit nieuwe klant aan in de wachtrij\n",
    "class Eter(sim.Component):\n",
    "    def process(self):\n",
    "        if Eters_b.requesters().length() < 4:\n",
    "            self.request(Eters_b)\n",
    "            self.hold(sim.Normal(9, 1).sample())\n",
    "            stats['opbrengst_eters']+= sim.Bounded(sim.Normal(20, 2), 0).sample()\n",
    "        else:\n",
    "            stats['eters_afgehaakt']+=1\n",
    "            self.cancel()\n",
    "\n",
    "# stuur nieuwe webshoporder naar de keuken\n",
    "class Koper(sim.Component):\n",
    "    def process(self):\n",
    "        if Kopers_b.requesters().length() < 3:\n",
    "            self.request(Kopers_b)\n",
    "            self.hold(sim.Exponential(2).sample())\n",
    "            stats['opbrengst_kopers']+= sim.Uniform(3, 7).sample()\n",
    "        else:\n",
    "            stats['kopers_afgehaakt']+=1\n",
    "            self.cancel()\n",
    "\n",
    "for i in range(200):\n",
    "    # initialiseer simulatie\n",
    "    env = sim.Environment(trace=False, random_seed =\"*\")\n",
    "    stats = {\"kopers\": 0, \"eters\": 0, \"kopers_afgehaakt\": 0, \"eters_afgehaakt\": 0, 'opbrengst_eters': 0, 'opbrengst_kopers': 0}\n",
    "\n",
    "    # simuleer lunchroom\n",
    "    KlantenGenerator()\n",
    "    Eters_b = sim.Resource('Eters bediening', capacity=2)\n",
    "    Kopers_b = sim.Resource('Kopers bediening', capacity=1)\n",
    "\n",
    "\n",
    "\n",
    "    # run simulatie voor 250000 minuten\n",
    "    env.run(till=6*60)\n",
    "    kopers.append(stats['kopers'])\n",
    "    eters.append(stats['eters'])\n",
    "    kopers_afgehaakt.append(stats['kopers_afgehaakt'])\n",
    "    eters_afgehaakt.append(stats['eters_afgehaakt'])\n",
    "    omzet_kopers.append(stats['opbrengst_kopers'])\n",
    "    omzet_eters.append(stats['opbrengst_eters'])\n",
    "    omzet.append(stats['opbrengst_kopers'] + stats['opbrengst_eters'])\n",
    "    model.append(\"Huidige\")\n",
    "\n",
    "df1 = pd.DataFrame([kopers, eters, kopers_afgehaakt, eters_afgehaakt, omzet_kopers, omzet_eters, omzet, model]).T\n",
    "df1 = df1.rename({0: 'Kopers', 1: 'Eters', 2: 'Kopers_afgehaakt', 3: 'Eters_afgehaakt', 4: 'Omzet_kopers', 5: 'Omzet_eters', 6: 'Omzet', 7: 'model'}, axis='columns')"
   ]
  },
  {
   "cell_type": "code",
   "execution_count": 47,
   "id": "c04c06f5-1734-4029-ab67-7bb2a567585b",
   "metadata": {
    "tags": []
   },
   "outputs": [
    {
     "data": {
      "text/plain": [
       "24.269346699057937"
      ]
     },
     "execution_count": 47,
     "metadata": {},
     "output_type": "execute_result"
    }
   ],
   "source": [
    "Eters_b.requesters().length_of_stay.mean() + Eters_b.claimers().length_of_stay.mean()"
   ]
  },
  {
   "cell_type": "code",
   "execution_count": 46,
   "id": "b91f9219-1ad9-49b2-aa92-96a240e7a83b",
   "metadata": {
    "tags": []
   },
   "outputs": [
    {
     "data": {
      "text/plain": [
       "5.693823160333816"
      ]
     },
     "execution_count": 46,
     "metadata": {},
     "output_type": "execute_result"
    }
   ],
   "source": [
    "Kopers_b.requesters().length_of_stay.mean() + Kopers_b.claimers().length_of_stay.mean()"
   ]
  },
  {
   "cell_type": "code",
   "execution_count": 45,
   "id": "f1d4f207-e07c-4afa-bc14-77010682284d",
   "metadata": {
    "tags": []
   },
   "outputs": [
    {
     "data": {
      "text/plain": [
       "{'kopers': 336,\n",
       " 'eters': 205,\n",
       " 'kopers_afgehaakt': 155,\n",
       " 'eters_afgehaakt': 122,\n",
       " 'opbrengst_eters': 1543.5536076537735,\n",
       " 'opbrengst_kopers': 902.796688205553}"
      ]
     },
     "execution_count": 45,
     "metadata": {},
     "output_type": "execute_result"
    }
   ],
   "source": [
    "stats"
   ]
  },
  {
   "cell_type": "code",
   "execution_count": 1,
   "id": "e2dd6d7c-7f13-46a9-ab7a-43dbc6edcb45",
   "metadata": {
    "tags": []
   },
   "outputs": [
    {
     "name": "stdout",
     "output_type": "stream",
     "text": [
      "  Kopers Eters Kopers_afgehaakt Eters_afgehaakt Omzet_kopers  Omzet_eters  \\\n",
      "0    292   210              111             126   923.994339  1652.284696   \n",
      "1    321   221              150             138   835.844426  1645.494413   \n",
      "2    319   221              165             139   765.825825  1652.365531   \n",
      "3    317   196              139             113   880.601037  1650.743311   \n",
      "4    319   228              141             142   874.046843  1748.578267   \n",
      "\n",
      "         Omzet Laatste_klant_vertrek            Model  \n",
      "0  2576.279036            382.737504  Pastaria huidig  \n",
      "1  2481.338839            380.674982  Pastaria huidig  \n",
      "2  2418.191357            381.024266  Pastaria huidig  \n",
      "3  2531.344348              374.6367  Pastaria huidig  \n",
      "4  2622.625111            380.197683  Pastaria huidig  \n"
     ]
    }
   ],
   "source": [
    "# Met mensen in de wachtrij na sluitingstijd nog bedienen\n",
    "kopers = []\n",
    "eters = []\n",
    "kopers_afgehaakt = []\n",
    "eters_afgehaakt = []\n",
    "omzet_kopers = []\n",
    "omzet_eters = []\n",
    "omzet = []\n",
    "laatste_klant = []\n",
    "model = []\n",
    "\n",
    "# genereer klanten\n",
    "class KlantenGenerator(sim.Component):\n",
    "    def process(self):\n",
    "        while self.env.now() < 6*60:   # alleen klanten genereren zolang de pastaria open is\n",
    "            if random.uniform(0,1) <= 0.4:  # 40% eters\n",
    "                Eter()\n",
    "                stats['eters'] += 1\n",
    "            else:                           # 60% kopers (webshop orders)\n",
    "                Koper()\n",
    "                stats['kopers'] += 1\n",
    "            # gemiddeld iedere 1.5 minuut nieuwe klant\n",
    "            self.hold(sim.Exponential(2/3).sample())\n",
    "\n",
    "# sluit nieuwe klant aan in de wachtrij\n",
    "class Eter(sim.Component):\n",
    "    def process(self):\n",
    "        if Eters_b.requesters().length() < 4:  # max wachtrij = 4\n",
    "            self.request(Eters_b)\n",
    "            self.hold(sim.Normal(9, 1).sample())  # eetduur\n",
    "            omzet = sim.Bounded(sim.Normal(20, 2), 0).sample()\n",
    "            stats['opbrengst_eters'] += omzet\n",
    "            stats['laatste_vertrek'] = max(stats['laatste_vertrek'], self.env.now())\n",
    "        else:\n",
    "            stats['eters_afgehaakt'] += 1\n",
    "            self.cancel()\n",
    "\n",
    "# stuur nieuwe webshoporder naar de keuken\n",
    "class Koper(sim.Component):\n",
    "    def process(self):\n",
    "        if Kopers_b.requesters().length() < 3:  # max wachtrij = 3\n",
    "            self.request(Kopers_b)\n",
    "            self.hold(sim.Exponential(2).sample())  # bereidingstijd\n",
    "            omzet = sim.Uniform(3, 7).sample()\n",
    "            stats['opbrengst_kopers'] += omzet\n",
    "            stats['laatste_vertrek'] = max(stats['laatste_vertrek'], self.env.now())\n",
    "        else:\n",
    "            stats['kopers_afgehaakt'] += 1\n",
    "            self.cancel()\n",
    "\n",
    "# run 200 simulaties\n",
    "for i in range(200):\n",
    "    env = sim.Environment(trace=False, random_seed=\"*\")\n",
    "    stats = {\n",
    "        \"kopers\": 0, \n",
    "        \"eters\": 0, \n",
    "        \"kopers_afgehaakt\": 0, \n",
    "        \"eters_afgehaakt\": 0,\n",
    "        \"opbrengst_eters\": 0, \n",
    "        \"opbrengst_kopers\": 0,\n",
    "        \"laatste_vertrek\": 0\n",
    "    }\n",
    "\n",
    "    KlantenGenerator()\n",
    "    Eters_b = sim.Resource('Eters bediening', capacity=2)\n",
    "    Kopers_b = sim.Resource('Kopers bediening', capacity=1)\n",
    "\n",
    "    # run simulatie: geen till → door tot alle klanten klaar zijn\n",
    "    env.run()\n",
    "\n",
    "    # resultaten opslaan\n",
    "    kopers.append(stats['kopers'])\n",
    "    eters.append(stats['eters'])\n",
    "    kopers_afgehaakt.append(stats['kopers_afgehaakt'])\n",
    "    eters_afgehaakt.append(stats['eters_afgehaakt'])\n",
    "    omzet_kopers.append(stats['opbrengst_kopers'])\n",
    "    omzet_eters.append(stats['opbrengst_eters'])\n",
    "    omzet.append(stats['opbrengst_kopers'] + stats['opbrengst_eters'])\n",
    "    laatste_klant.append(stats['laatste_vertrek'])\n",
    "    model.append(\"Pastaria huidig\")\n",
    "\n",
    "# alles in dataframe\n",
    "df1 = pd.DataFrame([kopers, eters, kopers_afgehaakt, eters_afgehaakt, \n",
    "                    omzet_kopers, omzet_eters, omzet, laatste_klant, model]).T\n",
    "\n",
    "df1 = df1.rename({\n",
    "    0: 'Kopers', \n",
    "    1: 'Eters', \n",
    "    2: 'Kopers_afgehaakt', \n",
    "    3: 'Eters_afgehaakt', \n",
    "    4: 'Omzet_kopers', \n",
    "    5: 'Omzet_eters', \n",
    "    6: 'Omzet', \n",
    "    7: 'Laatste_klant_vertrek',\n",
    "    8: 'Model'\n",
    "}, axis='columns')\n",
    "\n",
    "# toon resultaat\n",
    "print(df1.head())\n"
   ]
  },
  {
   "cell_type": "code",
   "execution_count": 55,
   "id": "a6fcbbef-e0be-4004-807c-44f017023c40",
   "metadata": {
    "tags": []
   },
   "outputs": [
    {
     "data": {
      "text/html": [
       "<div>\n",
       "<style scoped>\n",
       "    .dataframe tbody tr th:only-of-type {\n",
       "        vertical-align: middle;\n",
       "    }\n",
       "\n",
       "    .dataframe tbody tr th {\n",
       "        vertical-align: top;\n",
       "    }\n",
       "\n",
       "    .dataframe thead th {\n",
       "        text-align: right;\n",
       "    }\n",
       "</style>\n",
       "<table border=\"1\" class=\"dataframe\">\n",
       "  <thead>\n",
       "    <tr style=\"text-align: right;\">\n",
       "      <th></th>\n",
       "      <th>Kopers</th>\n",
       "      <th>Eters</th>\n",
       "      <th>Kopers_afgehaakt</th>\n",
       "      <th>Eters_afgehaakt</th>\n",
       "      <th>Omzet_kopers</th>\n",
       "      <th>Omzet_eters</th>\n",
       "      <th>Omzet</th>\n",
       "    </tr>\n",
       "  </thead>\n",
       "  <tbody>\n",
       "    <tr>\n",
       "      <th>count</th>\n",
       "      <td>200.000000</td>\n",
       "      <td>200.000000</td>\n",
       "      <td>200.000000</td>\n",
       "      <td>200.000000</td>\n",
       "      <td>200.000000</td>\n",
       "      <td>200.000000</td>\n",
       "      <td>200.000000</td>\n",
       "    </tr>\n",
       "    <tr>\n",
       "      <th>mean</th>\n",
       "      <td>323.335000</td>\n",
       "      <td>216.640000</td>\n",
       "      <td>150.450000</td>\n",
       "      <td>132.550000</td>\n",
       "      <td>848.951014</td>\n",
       "      <td>1573.156488</td>\n",
       "      <td>2422.107502</td>\n",
       "    </tr>\n",
       "    <tr>\n",
       "      <th>std</th>\n",
       "      <td>16.599412</td>\n",
       "      <td>14.296586</td>\n",
       "      <td>19.777341</td>\n",
       "      <td>14.283121</td>\n",
       "      <td>59.563248</td>\n",
       "      <td>28.576474</td>\n",
       "      <td>62.931999</td>\n",
       "    </tr>\n",
       "    <tr>\n",
       "      <th>min</th>\n",
       "      <td>282.000000</td>\n",
       "      <td>177.000000</td>\n",
       "      <td>98.000000</td>\n",
       "      <td>93.000000</td>\n",
       "      <td>689.536318</td>\n",
       "      <td>1493.562887</td>\n",
       "      <td>2258.840474</td>\n",
       "    </tr>\n",
       "    <tr>\n",
       "      <th>25%</th>\n",
       "      <td>311.000000</td>\n",
       "      <td>207.000000</td>\n",
       "      <td>137.000000</td>\n",
       "      <td>123.000000</td>\n",
       "      <td>810.752644</td>\n",
       "      <td>1552.784817</td>\n",
       "      <td>2371.158325</td>\n",
       "    </tr>\n",
       "    <tr>\n",
       "      <th>50%</th>\n",
       "      <td>324.000000</td>\n",
       "      <td>217.000000</td>\n",
       "      <td>150.000000</td>\n",
       "      <td>134.000000</td>\n",
       "      <td>848.192253</td>\n",
       "      <td>1572.646022</td>\n",
       "      <td>2426.755188</td>\n",
       "    </tr>\n",
       "    <tr>\n",
       "      <th>75%</th>\n",
       "      <td>336.000000</td>\n",
       "      <td>226.000000</td>\n",
       "      <td>166.250000</td>\n",
       "      <td>141.000000</td>\n",
       "      <td>884.901438</td>\n",
       "      <td>1593.197054</td>\n",
       "      <td>2464.093479</td>\n",
       "    </tr>\n",
       "    <tr>\n",
       "      <th>max</th>\n",
       "      <td>363.000000</td>\n",
       "      <td>252.000000</td>\n",
       "      <td>202.000000</td>\n",
       "      <td>167.000000</td>\n",
       "      <td>988.308055</td>\n",
       "      <td>1648.763954</td>\n",
       "      <td>2605.161898</td>\n",
       "    </tr>\n",
       "  </tbody>\n",
       "</table>\n",
       "</div>"
      ],
      "text/plain": [
       "           Kopers       Eters  Kopers_afgehaakt  Eters_afgehaakt  \\\n",
       "count  200.000000  200.000000        200.000000       200.000000   \n",
       "mean   323.335000  216.640000        150.450000       132.550000   \n",
       "std     16.599412   14.296586         19.777341        14.283121   \n",
       "min    282.000000  177.000000         98.000000        93.000000   \n",
       "25%    311.000000  207.000000        137.000000       123.000000   \n",
       "50%    324.000000  217.000000        150.000000       134.000000   \n",
       "75%    336.000000  226.000000        166.250000       141.000000   \n",
       "max    363.000000  252.000000        202.000000       167.000000   \n",
       "\n",
       "       Omzet_kopers  Omzet_eters        Omzet  \n",
       "count    200.000000   200.000000   200.000000  \n",
       "mean     848.951014  1573.156488  2422.107502  \n",
       "std       59.563248    28.576474    62.931999  \n",
       "min      689.536318  1493.562887  2258.840474  \n",
       "25%      810.752644  1552.784817  2371.158325  \n",
       "50%      848.192253  1572.646022  2426.755188  \n",
       "75%      884.901438  1593.197054  2464.093479  \n",
       "max      988.308055  1648.763954  2605.161898  "
      ]
     },
     "execution_count": 55,
     "metadata": {},
     "output_type": "execute_result"
    }
   ],
   "source": [
    "df1 = df1.astype({c:'float64' for c in df1.columns if c != 'model'})\n",
    "df1.describe()"
   ]
  },
  {
   "cell_type": "markdown",
   "id": "66a08dd6-f7f0-415f-ac9b-4157a347f2e5",
   "metadata": {},
   "source": [
    "# Variant A"
   ]
  },
  {
   "cell_type": "code",
   "execution_count": 57,
   "id": "a9b7fb34-52c9-4d03-b392-af7d46cf8650",
   "metadata": {
    "tags": []
   },
   "outputs": [],
   "source": [
    "kopers = []\n",
    "eters = []\n",
    "kopers_afgehaakt = []\n",
    "eters_afgehaakt = []\n",
    "omzet_kopers = []\n",
    "omzet_eters = []\n",
    "omzet = []\n",
    "model = []\n",
    "\n",
    "# genereer klanten\n",
    "class KlantenGenerator(sim.Component):\n",
    "    def process(self):\n",
    "        while True:\n",
    "            if random.uniform(0,1) <= 0.4:\n",
    "                Eter()\n",
    "                stats['eters']+=1\n",
    "            else:\n",
    "                Koper()\n",
    "                stats['kopers']+=1\n",
    "            self.hold(sim.Exponential(2/3).sample())\n",
    "\n",
    "# sluit nieuwe klant aan in de wachtrij\n",
    "class Eter(sim.Component):\n",
    "    def process(self):\n",
    "        if Eters_b.requesters().length() < 4:\n",
    "            self.request(Eters_b)\n",
    "            self.hold(sim.Normal(9, 1).sample())\n",
    "            stats['opbrengst_eters']+= sim.Bounded(sim.Normal(20, 2), 0).sample()\n",
    "        else:\n",
    "            stats['eters_afgehaakt']+=1\n",
    "            self.cancel()\n",
    "\n",
    "# stuur nieuwe webshoporder naar de keuken\n",
    "class Koper(sim.Component):\n",
    "    def process(self):\n",
    "        if Kopers_b.requesters().length() < 3:\n",
    "            self.request(Kopers_b)\n",
    "            self.hold(sim.Exponential(2).sample())\n",
    "            stats['opbrengst_kopers']+= sim.Uniform(3, 7).sample()\n",
    "        else:\n",
    "            stats['kopers_afgehaakt']+=1\n",
    "            self.cancel()\n",
    "            \n",
    "for i in range(200):\n",
    "    # initialiseer simulatie\n",
    "    env = sim.Environment(trace=False, random_seed =\"*\")\n",
    "    stats = {\"kopers\": 0, \"eters\": 0, \"kopers_afgehaakt\": 0, \"eters_afgehaakt\": 0, 'opbrengst_eters': 0, 'opbrengst_kopers': 0}\n",
    "\n",
    "    # simuleer lunchroom\n",
    "    KlantenGenerator()\n",
    "    Eters_b = sim.Resource('Eters bediening', capacity=2)\n",
    "    Kopers_b = sim.Resource('Kopers bediening', capacity=1)\n",
    "\n",
    "\n",
    "\n",
    "    # run simulatie voor 250000 minuten\n",
    "    env.run(till=8*60)\n",
    "    kopers.append(stats['kopers'])\n",
    "    eters.append(stats['eters'])\n",
    "    kopers_afgehaakt.append(stats['kopers_afgehaakt'])\n",
    "    eters_afgehaakt.append(stats['eters_afgehaakt'])\n",
    "    omzet_kopers.append(stats['opbrengst_kopers'])\n",
    "    omzet_eters.append(stats['opbrengst_eters'])\n",
    "    omzet.append(stats['opbrengst_kopers'] + stats['opbrengst_eters'])\n",
    "    model.append(\"VartiantA\")\n",
    "\n",
    "df2 = pd.DataFrame([kopers, eters, kopers_afgehaakt, eters_afgehaakt, omzet_kopers, omzet_eters, omzet, model]).T\n",
    "df2 = df2.rename({0: 'Kopers', 1: 'Eters', 2: 'Kopers_afgehaakt', 3: 'Eters_afgehaakt', 4: 'Omzet_kopers', 5: 'Omzet_eters', 6: 'Omzet', 7: 'model'}, axis='columns')"
   ]
  },
  {
   "cell_type": "code",
   "execution_count": 20,
   "id": "6ebf9fbf-b19a-4a2c-b53d-ccd3e2a09adb",
   "metadata": {
    "tags": []
   },
   "outputs": [
    {
     "data": {
      "text/plain": [
       "24.355098435580615"
      ]
     },
     "execution_count": 20,
     "metadata": {},
     "output_type": "execute_result"
    }
   ],
   "source": [
    "Eters_b.requesters().length_of_stay.mean() + Eters_b.claimers().length_of_stay.mean()"
   ]
  },
  {
   "cell_type": "code",
   "execution_count": 21,
   "id": "36805a53-df8b-4b3d-9abf-5703009d10df",
   "metadata": {
    "tags": []
   },
   "outputs": [
    {
     "data": {
      "text/plain": [
       "5.749235833597306"
      ]
     },
     "execution_count": 21,
     "metadata": {},
     "output_type": "execute_result"
    }
   ],
   "source": [
    "Kopers_b.requesters().length_of_stay.mean() + Kopers_b.claimers().length_of_stay.mean()"
   ]
  },
  {
   "cell_type": "code",
   "execution_count": 22,
   "id": "7a91dc66-3a3b-4642-bf38-1bfc7acb9e99",
   "metadata": {
    "tags": []
   },
   "outputs": [
    {
     "data": {
      "text/plain": [
       "{'kopers': 433,\n",
       " 'eters': 277,\n",
       " 'kopers_afgehaakt': 187,\n",
       " 'eters_afgehaakt': 167,\n",
       " 'opbrengst_eters': 2102.0599546548106,\n",
       " 'opbrengst_kopers': 1227.2372671537528}"
      ]
     },
     "execution_count": 22,
     "metadata": {},
     "output_type": "execute_result"
    }
   ],
   "source": [
    "stats"
   ]
  },
  {
   "cell_type": "markdown",
   "id": "9c85448a-b8d0-4321-82f8-38b71ce24cc1",
   "metadata": {},
   "source": [
    "# Variant B"
   ]
  },
  {
   "cell_type": "code",
   "execution_count": 58,
   "id": "cf456bd6-564e-4299-9614-4da02a496aa0",
   "metadata": {
    "tags": []
   },
   "outputs": [],
   "source": [
    "kopers = []\n",
    "eters = []\n",
    "kopers_afgehaakt = []\n",
    "eters_afgehaakt = []\n",
    "omzet_kopers = []\n",
    "omzet_eters = []\n",
    "omzet = []\n",
    "model = []\n",
    "# genereer klanten\n",
    "class KlantenGenerator(sim.Component):\n",
    "    def process(self):\n",
    "        while True:\n",
    "            if random.uniform(0,1) <= 0.4:\n",
    "                Eter()\n",
    "                stats['eters']+=1\n",
    "            else:\n",
    "                Koper()\n",
    "                stats['kopers']+=1\n",
    "            self.hold(sim.Exponential(2/3).sample())\n",
    "\n",
    "# sluit nieuwe klant aan in de wachtrij\n",
    "class Eter(sim.Component):\n",
    "    def process(self):\n",
    "        if Eters_b.requesters().length() < 2:\n",
    "            self.request(Eters_b)\n",
    "            self.hold(sim.Normal(9, 1).sample())\n",
    "            stats['opbrengst_eters']+= sim.Bounded(sim.Normal(20, 2), 0).sample()\n",
    "        else:\n",
    "            stats['eters_afgehaakt']+=1\n",
    "            self.cancel()\n",
    "\n",
    "# stuur nieuwe webshoporder naar de keuken\n",
    "class Koper(sim.Component):\n",
    "    def process(self):\n",
    "        if Kopers_b.claimers().length() < 4:\n",
    "            self.request(Kopers_b)\n",
    "            self.hold(sim.Exponential(2).sample())\n",
    "            stats['opbrengst_kopers']+= sim.Uniform(3, 7).sample()\n",
    "        else:\n",
    "            stats['kopers_afgehaakt']+=1\n",
    "            self.cancel()\n",
    "\n",
    "for i in range(200):\n",
    "    # initialiseer simulatie\n",
    "    env = sim.Environment(trace=False, random_seed =\"*\")\n",
    "    stats = {\"kopers\": 0, \"eters\": 0, \"kopers_afgehaakt\": 0, \"eters_afgehaakt\": 0, 'opbrengst_eters': 0, 'opbrengst_kopers': 0}\n",
    "\n",
    "    # simuleer lunchroom\n",
    "    KlantenGenerator()\n",
    "    Eters_b = sim.Resource('Eters bediening', capacity=4)\n",
    "    Kopers_b = sim.Resource('Kopers bediening', capacity=4)\n",
    "\n",
    "\n",
    "\n",
    "    # run simulatie voor 250000 minuten\n",
    "    env.run(till=6*60)\n",
    "    kopers.append(stats['kopers'])\n",
    "    eters.append(stats['eters'])\n",
    "    kopers_afgehaakt.append(stats['kopers_afgehaakt'])\n",
    "    eters_afgehaakt.append(stats['eters_afgehaakt'])\n",
    "    omzet_kopers.append(stats['opbrengst_kopers'])\n",
    "    omzet_eters.append(stats['opbrengst_eters'])\n",
    "    omzet.append(stats['opbrengst_kopers'] + stats['opbrengst_eters'])\n",
    "    model.append(\"VariantB\")\n",
    "\n",
    "df3 = pd.DataFrame([kopers, eters, kopers_afgehaakt, eters_afgehaakt, omzet_kopers, omzet_eters, omzet, model]).T\n",
    "df3 = df3.rename({0: 'Kopers', 1: 'Eters', 2: 'Kopers_afgehaakt', 3: 'Eters_afgehaakt', 4: 'Omzet_kopers', 5: 'Omzet_eters', 6: 'Omzet', 7: 'model'}, axis='columns')"
   ]
  },
  {
   "cell_type": "code",
   "execution_count": 29,
   "id": "44f0a845-5a0d-4082-b3a3-5db069f71faf",
   "metadata": {
    "tags": []
   },
   "outputs": [
    {
     "data": {
      "text/plain": [
       "11.317820771202488"
      ]
     },
     "execution_count": 29,
     "metadata": {},
     "output_type": "execute_result"
    }
   ],
   "source": [
    "Eters_b.requesters().length_of_stay.mean() + Eters_b.claimers().length_of_stay.mean()"
   ]
  },
  {
   "cell_type": "code",
   "execution_count": 30,
   "id": "714edfd1-b420-4f8d-9993-dbab9621a775",
   "metadata": {
    "tags": []
   },
   "outputs": [
    {
     "data": {
      "text/plain": [
       "2.0855456035474274"
      ]
     },
     "execution_count": 30,
     "metadata": {},
     "output_type": "execute_result"
    }
   ],
   "source": [
    "Kopers_b.requesters().length_of_stay.mean() + Kopers_b.claimers().length_of_stay.mean()"
   ]
  },
  {
   "cell_type": "code",
   "execution_count": 31,
   "id": "dff0c41f-b758-4d12-bf2f-e012c5f01c96",
   "metadata": {
    "tags": []
   },
   "outputs": [
    {
     "data": {
      "text/plain": [
       "{'kopers': 352,\n",
       " 'eters': 246,\n",
       " 'kopers_afgehaakt': 38,\n",
       " 'eters_afgehaakt': 88,\n",
       " 'opbrengst_eters': 3072.074953016484,\n",
       " 'opbrengst_kopers': 1515.80570806338}"
      ]
     },
     "execution_count": 31,
     "metadata": {},
     "output_type": "execute_result"
    }
   ],
   "source": [
    "stats"
   ]
  },
  {
   "cell_type": "code",
   "execution_count": null,
   "id": "5a791dea-8837-4b40-9a4c-a540f842a422",
   "metadata": {},
   "outputs": [],
   "source": []
  },
  {
   "cell_type": "markdown",
   "id": "1dadff76-0b8e-44f4-8d1c-812a99e99bbb",
   "metadata": {},
   "source": [
    "# Variant C"
   ]
  },
  {
   "cell_type": "code",
   "execution_count": 59,
   "id": "242a952d-664c-40d0-afb2-b9bed298802e",
   "metadata": {
    "tags": []
   },
   "outputs": [],
   "source": [
    "kopers = []\n",
    "eters = []\n",
    "kopers_afgehaakt = []\n",
    "eters_afgehaakt = []\n",
    "omzet_kopers = []\n",
    "omzet_eters = []\n",
    "omzet = []\n",
    "model = []\n",
    "# genereer klanten\n",
    "class KlantenGenerator(sim.Component):\n",
    "    def process(self):\n",
    "        while True:\n",
    "            if random.uniform(0,1) <= 0.4:\n",
    "                Eter()\n",
    "                stats['eters']+=1\n",
    "            else:\n",
    "                Koper()\n",
    "                stats['kopers']+=1\n",
    "            self.hold(sim.Exponential(2/3).sample())\n",
    "\n",
    "# sluit nieuwe klant aan in de wachtrij\n",
    "class Eter(sim.Component):\n",
    "    def process(self):\n",
    "        if Eters_b.claimers().length() < 6:\n",
    "            self.request(Eters_b)\n",
    "            self.hold(sim.Normal(9, 1).sample())\n",
    "            stats['opbrengst_eters']+= sim.Bounded(sim.Normal(20, 2), 0).sample()\n",
    "        else:\n",
    "            stats['eters_afgehaakt']+=1\n",
    "            self.cancel()\n",
    "\n",
    "# stuur nieuwe webshoporder naar de keuken\n",
    "class Koper(sim.Component):\n",
    "    def process(self):\n",
    "        if Kopers_b.requesters().length() < 2:\n",
    "            self.request(Kopers_b)\n",
    "            self.hold(sim.Exponential(2).sample())\n",
    "            stats['opbrengst_kopers']+= sim.Uniform(3, 7).sample()\n",
    "        else:\n",
    "            stats['kopers_afgehaakt']+=1\n",
    "            self.cancel()\n",
    "            \n",
    "for i in range(200):\n",
    "    # initialiseer simulatie\n",
    "    env = sim.Environment(trace=False, random_seed =\"*\")\n",
    "    stats = {\"kopers\": 0, \"eters\": 0, \"kopers_afgehaakt\": 0, \"eters_afgehaakt\": 0, 'opbrengst_eters': 0, 'opbrengst_kopers': 0}\n",
    "\n",
    "    # simuleer lunchroom\n",
    "    KlantenGenerator()\n",
    "    Eters_b = sim.Resource('Eters bediening', capacity=6)\n",
    "    Kopers_b = sim.Resource('Kopers bediening', capacity=2)\n",
    "\n",
    "\n",
    "\n",
    "    # run simulatie voor 250000 minuten\n",
    "    env.run(till=6*60)\n",
    "    kopers.append(stats['kopers'])\n",
    "    eters.append(stats['eters'])\n",
    "    kopers_afgehaakt.append(stats['kopers_afgehaakt'])\n",
    "    eters_afgehaakt.append(stats['eters_afgehaakt'])\n",
    "    omzet_kopers.append(stats['opbrengst_kopers'])\n",
    "    omzet_eters.append(stats['opbrengst_eters'])\n",
    "    omzet.append(stats['opbrengst_kopers'] + stats['opbrengst_eters'])\n",
    "    model.append(\"VariantC\")\n",
    "\n",
    "df4 = pd.DataFrame([kopers, eters, kopers_afgehaakt, eters_afgehaakt, omzet_kopers, omzet_eters, omzet, model]).T\n",
    "df4 = df4.rename({0: 'Kopers', 1: 'Eters', 2: 'Kopers_afgehaakt', 3: 'Eters_afgehaakt', 4: 'Omzet_kopers', 5: 'Omzet_eters', 6: 'Omzet', 7: 'model'}, axis='columns')"
   ]
  },
  {
   "cell_type": "code",
   "execution_count": 37,
   "id": "98158ffb-35b0-43af-83d9-b01462d64a62",
   "metadata": {
    "tags": []
   },
   "outputs": [
    {
     "data": {
      "text/plain": [
       "8.860221293935357"
      ]
     },
     "execution_count": 37,
     "metadata": {},
     "output_type": "execute_result"
    }
   ],
   "source": [
    "Eters_b.requesters().length_of_stay.mean() + Eters_b.claimers().length_of_stay.mean()"
   ]
  },
  {
   "cell_type": "code",
   "execution_count": 38,
   "id": "d91086d5-5346-4b6d-afd5-6e72d7a76566",
   "metadata": {
    "tags": []
   },
   "outputs": [
    {
     "data": {
      "text/plain": [
       "2.5360646369331556"
      ]
     },
     "execution_count": 38,
     "metadata": {},
     "output_type": "execute_result"
    }
   ],
   "source": [
    "Kopers_b.requesters().length_of_stay.mean() + Kopers_b.claimers().length_of_stay.mean()\n"
   ]
  },
  {
   "cell_type": "code",
   "execution_count": 41,
   "id": "9949cdc9-1641-4d9c-8f06-6a9963dc1dfa",
   "metadata": {
    "tags": []
   },
   "outputs": [
    {
     "data": {
      "text/plain": [
       "{'kopers': 319,\n",
       " 'eters': 214,\n",
       " 'kopers_afgehaakt': 46,\n",
       " 'eters_afgehaakt': 51,\n",
       " 'opbrengst_eters': 3194.5551969340004,\n",
       " 'opbrengst_kopers': 1378.6032062081588}"
      ]
     },
     "execution_count": 41,
     "metadata": {},
     "output_type": "execute_result"
    }
   ],
   "source": [
    "stats"
   ]
  },
  {
   "cell_type": "markdown",
   "id": "780130f4-c544-46ba-84b5-70973f97d038",
   "metadata": {},
   "source": [
    "# Kosten terugverdienst-praktijken"
   ]
  },
  {
   "cell_type": "code",
   "execution_count": 66,
   "id": "ecbcd4a4-ca9b-4ea7-b283-e354a1a3d978",
   "metadata": {
    "tags": []
   },
   "outputs": [
    {
     "name": "stdout",
     "output_type": "stream",
     "text": [
      "72.32771081462359 59.710884824902436 68.65952409808902\n"
     ]
    }
   ],
   "source": [
    "huidig_omzet = np.mean(df1['Omzet'])\n",
    "varianta_omzet = np.mean(df2['Omzet'])\n",
    "variantb_omzet = np.mean(df3['Omzet'])\n",
    "variantc_omzet = np.mean(df4['Omzet'])\n",
    "\n",
    "verschil_a = varianta_omzet - huidig_omzet\n",
    "verschil_b = variantb_omzet - huidig_omzet\n",
    "verschil_c = variantc_omzet - huidig_omzet\n",
    "\n",
    "dagen_a = 60000/verschil_a\n",
    "dagen_b = 120000 / verschil_b\n",
    "dagen_c = 150000 / verschil_c\n",
    "\n",
    "print(dagen_a, dagen_b, dagen_c)"
   ]
  },
  {
   "cell_type": "code",
   "execution_count": 68,
   "id": "6c68e54e-aa67-44cf-87b3-f0401e36aa0e",
   "metadata": {
    "tags": []
   },
   "outputs": [],
   "source": [
    "verschil = [df3['Omzet'] - df1['Omzet']]"
   ]
  },
  {
   "cell_type": "code",
   "execution_count": 69,
   "id": "17f81d96-b637-4d49-a3f0-4b29bae887a3",
   "metadata": {
    "tags": []
   },
   "outputs": [
    {
     "data": {
      "text/plain": [
       "<Axes: ylabel='Count'>"
      ]
     },
     "execution_count": 69,
     "metadata": {},
     "output_type": "execute_result"
    },
    {
     "data": {
      "image/png": "[encoded data removed]",
      "text/plain": [
       "<Figure size 640x480 with 1 Axes>"
      ]
     },
     "metadata": {},
     "output_type": "display_data"
    }
   ],
   "source": [
    "sns.histplot(verschil)"
   ]
  },
  {
   "cell_type": "code",
   "execution_count": 73,
   "id": "58f09571-5309-46ed-a9a0-eddb9727eef5",
   "metadata": {
    "tags": []
   },
   "outputs": [
    {
     "name": "stdout",
     "output_type": "stream",
     "text": [
      "n=200, mean=2009.684\n",
      "Shapiro: stat=0.989, p=0.1135\n",
      "D'Agostino K²: stat=2.389, p=0.3028\n",
      "Anderson: stat=0.434, critical=[0.565, 0.644, 0.772, 0.901, 1.071], siglvl=[15.0, 10.0, 5.0, 2.5, 1.0]\n",
      "KS (z~N(0,1)): stat=0.047, p=0.7393\n",
      "Shapiro: geen bewijs tégen normaliteit\n",
      "D’Agostino: geen bewijs tégen normaliteit\n",
      "KS: geen bewijs tégen normaliteit\n"
     ]
    }
   ],
   "source": [
    "import numpy as np\n",
    "import pandas as pd\n",
    "from scipy import stats\n",
    "\n",
    "# 1) Verschil als float en opschonen\n",
    "verschil = pd.to_numeric(df3['Omzet'], errors='coerce') - pd.to_numeric(df1['Omzet'], errors='coerce')\n",
    "x = verschil.to_numpy(dtype='float64')\n",
    "\n",
    "# Drop NaN/inf\n",
    "x = x[np.isfinite(x)]\n",
    "n = x.size\n",
    "sd = x.std(ddof=1) if n > 1 else np.nan\n",
    "\n",
    "print(f\"n={n}, mean={x.mean():.3f}\" if n else \"Geen data over na opschonen.\")\n",
    "\n",
    "results = {}\n",
    "\n",
    "# 2) Shapiro–Wilk (3 <= n <= 5000)\n",
    "if 3 <= n <= 5000:\n",
    "    sw_stat, sw_p = stats.shapiro(x)\n",
    "    results['Shapiro'] = (sw_stat, sw_p)\n",
    "\n",
    "# 3) D’Agostino & Pearson K² (n >= 8)\n",
    "if n >= 8:\n",
    "    k2_stat, k2_p = stats.normaltest(x, nan_policy='omit')\n",
    "    results[\"D'Agostino K²\"] = (k2_stat, k2_p)\n",
    "\n",
    "# 4) Anderson–Darling (altijd ok)\n",
    "ad_res = stats.anderson(x, dist='norm')\n",
    "results['Anderson'] = (ad_res.statistic, list(ad_res.critical_values), list(ad_res.significance_level))\n",
    "\n",
    "# 5) KS op genormaliseerde data (alleen als sd>0)\n",
    "if n >= 3 and np.isfinite(sd) and sd > 0:\n",
    "    z = (x - x.mean()) / sd\n",
    "    ks_stat, ks_p = stats.kstest(z, 'norm')\n",
    "    results['KS (z~N(0,1))'] = (ks_stat, ks_p)\n",
    "\n",
    "# 6) Netjes printen\n",
    "for name, val in results.items():\n",
    "    if name == 'Anderson':\n",
    "        stat, crit, sig = val\n",
    "        print(f\"{name}: stat={stat:.3f}, critical={crit}, siglvl={sig}\")\n",
    "    else:\n",
    "        stat, p = val\n",
    "        print(f\"{name}: stat={stat:.3f}, p={p:.4f}\")\n",
    "\n",
    "# (optioneel) snelle interpretatie:\n",
    "def interpret_p(p): return \"geen bewijs tégen normaliteit\" if p >= 0.05 else \"verwerp normaliteit\"\n",
    "if 'Shapiro' in results:\n",
    "    print(\"Shapiro:\", interpret_p(results['Shapiro'][1]))\n",
    "if \"D'Agostino K²\" in results:\n",
    "    print(\"D’Agostino:\", interpret_p(results[\"D'Agostino K²\"][1]))\n",
    "if 'KS (z~N(0,1))' in results:\n",
    "    print(\"KS:\", interpret_p(results['KS (z~N(0,1))'][1]))\n"
   ]
  },
  {
   "cell_type": "code",
   "execution_count": 74,
   "id": "546aa19e-8242-45dc-956a-807ff1c5c473",
   "metadata": {
    "tags": []
   },
   "outputs": [
    {
     "name": "stdout",
     "output_type": "stream",
     "text": [
      "95% CI dagen_b: (59.21242419802224, 60.21780895795519)\n"
     ]
    }
   ],
   "source": [
    "# gemiddelde en standaardfout van verschil\n",
    "mean_diff = np.mean(df3['Omzet']) - np.mean(df1['Omzet'])\n",
    "se_diff   = np.sqrt(np.var(df3['Omzet'], ddof=1)/len(df3) +\n",
    "                    np.var(df1['Omzet'], ddof=1)/len(df1))\n",
    "\n",
    "# 95% CI van verschil\n",
    "z = 1.96\n",
    "ci_diff = (mean_diff - z*se_diff, mean_diff + z*se_diff)\n",
    "\n",
    "# omzet naar dagen\n",
    "ci_dagen = (120000/ci_diff[1], 120000/ci_diff[0])  # let op: omgekeerd delen!\n",
    "print(\"95% CI dagen_b:\", ci_dagen)\n"
   ]
  },
  {
   "cell_type": "code",
   "execution_count": 80,
   "id": "144927b3-f28c-4c7d-a9ba-64e53f56892b",
   "metadata": {
    "tags": []
   },
   "outputs": [
    {
     "data": {
      "text/plain": [
       "0      2044.215122\n",
       "1      2101.242474\n",
       "2      1908.719963\n",
       "3      2012.339960\n",
       "4      1930.157040\n",
       "          ...     \n",
       "195    2117.999719\n",
       "196    1779.746839\n",
       "197    2056.110912\n",
       "198    2150.310736\n",
       "199    2056.398008\n",
       "Name: Omzet, Length: 200, dtype: float64"
      ]
     },
     "execution_count": 80,
     "metadata": {},
     "output_type": "execute_result"
    }
   ],
   "source": [
    "verschil"
   ]
  },
  {
   "cell_type": "markdown",
   "id": "ed4be13e-d51e-4a93-838c-f9b24da8f705",
   "metadata": {},
   "source": [
    "> Slimmme dingen zeggen over CLT en normaal verdeling enzo + grafiekje behouden en uitleggen dat we daarom simpele manier de 95CI mogen berekenen"
   ]
  }
 ],
 "metadata": {
  "kernelspec": {
   "display_name": "Python 3 (ipykernel)",
   "language": "python",
   "name": "python3"
  },
  "language_info": {
   "codemirror_mode": {
    "name": "ipython",
    "version": 3
   },
   "file_extension": ".py",
   "mimetype": "text/x-python",
   "name": "python",
   "nbconvert_exporter": "python",
   "pygments_lexer": "ipython3",
   "version": "3.10.12"
  }
 },
 "nbformat": 4,
 "nbformat_minor": 5
}
